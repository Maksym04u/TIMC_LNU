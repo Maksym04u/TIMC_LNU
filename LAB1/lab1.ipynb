{
 "cells": [
  {
   "cell_type": "code",
   "execution_count": 44,
   "id": "c48160fd-1aee-4ef9-8aac-853e7bbd61e9",
   "metadata": {
    "tags": []
   },
   "outputs": [],
   "source": [
    "import matplotlib.pyplot as plt\n",
    "import random"
   ]
  },
  {
   "cell_type": "code",
   "execution_count": 45,
   "id": "34a83585-42dd-4b69-93e6-40988c718c3b",
   "metadata": {
    "tags": []
   },
   "outputs": [
    {
     "name": "stdin",
     "output_type": "stream",
     "text": [
      "Введіть максимальне можливе число:  15\n",
      "Введіть мінімальне можливе число:  3\n",
      "Введіть об'єм вибірки:  50\n"
     ]
    },
    {
     "name": "stdout",
     "output_type": "stream",
     "text": [
      "[7, 8, 8, 11, 12, 4, 14, 9, 8, 5, 10, 8, 13, 13, 7, 6, 14, 13, 13, 3, 15, 8, 8, 5, 14, 7, 11, 5, 7, 13, 4, 7, 6, 3, 6, 13, 8, 5, 12, 7, 13, 5, 14, 10, 14, 9, 9, 13, 15, 7]\n"
     ]
    }
   ],
   "source": [
    "lst = []\n",
    "max_possible_random = int(input(\"Введіть максимальне можливе число: \"))\n",
    "min_possible_random = int(input(\"Введіть мінімальне можливе число: \"))\n",
    "random_number_length = int(input(\"Введіть об'єм вибірки: \"))\n",
    "\n",
    "for i in range(random_number_length):\n",
    "    lst.append(random.randint(min_possible_random, max_possible_random))\n",
    "print(lst)"
   ]
  },
  {
   "cell_type": "code",
   "execution_count": 46,
   "id": "0cfabd46-b188-4358-b2fb-f4e95aa62afc",
   "metadata": {
    "tags": []
   },
   "outputs": [],
   "source": [
    "# Functions\n",
    "def get_variant_row(lst):\n",
    "    return sorted(lst)\n",
    "\n",
    "def get_frequency_table(lst):\n",
    "    lst = get_variant_row(lst)\n",
    "    freq = {}\n",
    "    for el in lst:\n",
    "        if el in freq:\n",
    "            freq[el] += 1\n",
    "        else:\n",
    "            freq[el] = 1\n",
    "    return freq\n",
    "            \n",
    "def show_frequency_table(freq):\n",
    "    print('Частотна таблиця')\n",
    "    print('Xi          Ni')\n",
    "    for key, val in freq.items():\n",
    "        print(key, '          ', val)"
   ]
  },
  {
   "cell_type": "code",
   "execution_count": 47,
   "id": "600e6616-2310-4ba6-a7d6-617671d60d53",
   "metadata": {
    "tags": []
   },
   "outputs": [],
   "source": [
    "# Visualisation\n",
    "def freq_diagram(freq):\n",
    "    plt.bar(freq.keys(), freq.values())\n",
    "    plt.xlabel('Елементи')\n",
    "    plt.ylabel('Частота')\n",
    "    plt.title('Діаграма частот')\n",
    "    plt.show()\n",
    "    \n",
    "def freq_polygon(freq):\n",
    "    plt.plot(freq.keys(), freq.values(), marker='o', linestyle='-')\n",
    "    plt.xlabel('Елементи')\n",
    "    plt.ylabel('Частота')\n",
    "    plt.title('Полігон частот')\n",
    "    plt.show()"
   ]
  },
  {
   "cell_type": "code",
   "execution_count": 48,
   "id": "7bafb94b-f3cd-4d95-9a9c-f4faecba89ab",
   "metadata": {
    "tags": []
   },
   "outputs": [],
   "source": [
    "# Numerical characteristics\n",
    "def get_average(lst):\n",
    "    return sum(lst) / len(lst)\n",
    "\n",
    "def get_mediana(lst):\n",
    "    length = len(lst)\n",
    "    \n",
    "    if length % 2 == 1: \n",
    "        return lst[length // 2]\n",
    "    else:\n",
    "        middle_right = length // 2\n",
    "        middle_left = middle_right - 1\n",
    "        return (lst[middle_left] + lst[middle_right]) / 2\n",
    "\n",
    "def get_moda(lst):\n",
    "    res = []\n",
    "    max_count = 0\n",
    "    for i in lst:\n",
    "        if lst.count(i) > max_count:\n",
    "            max_count = lst.count(i)\n",
    "    for i in lst:\n",
    "        if lst.count(i) == max_count:\n",
    "            res.append(i)\n",
    "    return list(set(res))\n",
    "\n",
    "def get_dev(lst):\n",
    "    res = 0\n",
    "    avg = get_average(lst)\n",
    "    freq = get_frequency_table(lst)\n",
    "    for k, v in freq.items():\n",
    "        res += v*(k-avg)**2\n",
    "    return res\n",
    "\n",
    "def get_variance(lst):\n",
    "    return get_dev(lst) / (len(lst)-1)\n",
    "\n",
    "def get_dyspersia(lst):\n",
    "    return get_dev(lst) / len(lst)\n",
    "\n",
    "def get_square_avg(lst):\n",
    "    return get_dyspersia(lst)**0.5\n",
    "\n",
    "def get_standart(lst):\n",
    "    return get_variance(lst)**0.5\n",
    "\n",
    "def get_scope(lst):\n",
    "    return max(lst)-min(lst)\n",
    "\n",
    "def get_moment(lst, s):\n",
    "    res = 0\n",
    "    avg = get_average(lst)\n",
    "    freq = get_frequency_table(lst)\n",
    "    for k, v in freq.items():\n",
    "        res += v*(k-avg)**s\n",
    "    return res/len(lst)\n",
    "\n",
    "def get_asymetry(lst):\n",
    "    return get_moment(lst,3)/get_moment(lst,2)**1.5\n",
    "\n",
    "def get_exes(lst):\n",
    "    return get_moment(lst,4)/get_moment(lst,2)**2 - 3\n",
    "\n",
    "def get_variation(lst):\n",
    "    return get_standart(lst)/get_average(lst)\n",
    "\n",
    "def get_quantiles(lst):\n",
    "    freq = get_frequency_table(lst)\n",
    "    res = []\n",
    "    for i in range(3):\n",
    "        suma = 0\n",
    "        q = (i+1)*len(lst)/4\n",
    "        for k, v in freq.items():\n",
    "            suma += v\n",
    "            if suma >= q:\n",
    "                res.append(k)\n",
    "                break\n",
    "    return res\n",
    "\n",
    "def get_deciles(lst):\n",
    "    freq = get_frequency_table(lst)\n",
    "    res = []\n",
    "    for i in range(9):\n",
    "        suma = 0\n",
    "        q = (i+1)*len(lst)/10\n",
    "        for k, v in freq.items():\n",
    "            suma += v\n",
    "            if suma >= q:\n",
    "                res.append(k)\n",
    "                break\n",
    "    return res\n",
    "\n",
    "def get_cetiles(lst):\n",
    "    freq = get_frequency_table(lst)\n",
    "    res = []\n",
    "    for i in range(100):\n",
    "        suma = 0\n",
    "        q = (i+1)*len(lst)/100\n",
    "        for k, v in freq.items():\n",
    "            suma += v\n",
    "            if suma >= q:\n",
    "                res.append(k)\n",
    "                break\n",
    "    return res"
   ]
  },
  {
   "cell_type": "code",
   "execution_count": 49,
   "id": "5a2fc582-3c2c-4344-803b-50d71539b7ed",
   "metadata": {
    "tags": []
   },
   "outputs": [
    {
     "name": "stdout",
     "output_type": "stream",
     "text": [
      "Вибірка:\n",
      "[7, 8, 8, 11, 12, 4, 14, 9, 8, 5, 10, 8, 13, 13, 7, 6, 14, 13, 13, 3, 15, 8, 8, 5, 14, 7, 11, 5, 7, 13, 4, 7, 6, 3, 6, 13, 8, 5, 12, 7, 13, 5, 14, 10, 14, 9, 9, 13, 15, 7]\n"
     ]
    }
   ],
   "source": [
    "print('Вибірка:')\n",
    "print(lst)"
   ]
  },
  {
   "cell_type": "code",
   "execution_count": 50,
   "id": "991fbbb1-7dad-489a-8a0f-35d275f1cab6",
   "metadata": {
    "tags": []
   },
   "outputs": [
    {
     "name": "stdout",
     "output_type": "stream",
     "text": [
      "Варіаційний ряд:\n",
      "[3, 3, 4, 4, 5, 5, 5, 5, 5, 6, 6, 6, 7, 7, 7, 7, 7, 7, 7, 8, 8, 8, 8, 8, 8, 8, 9, 9, 9, 10, 10, 11, 11, 12, 12, 13, 13, 13, 13, 13, 13, 13, 13, 14, 14, 14, 14, 14, 15, 15]\n"
     ]
    }
   ],
   "source": [
    "print('Варіаційний ряд:')\n",
    "print(get_variant_row(lst))"
   ]
  },
  {
   "cell_type": "code",
   "execution_count": 51,
   "id": "bada2eb2-5818-4350-bbf9-af9cd4965408",
   "metadata": {
    "tags": []
   },
   "outputs": [
    {
     "name": "stdout",
     "output_type": "stream",
     "text": [
      "Частотна таблиця\n",
      "Xi          Ni\n",
      "3            2\n",
      "4            2\n",
      "5            5\n",
      "6            3\n",
      "7            7\n",
      "8            7\n",
      "9            3\n",
      "10            2\n",
      "11            2\n",
      "12            2\n",
      "13            8\n",
      "14            5\n",
      "15            2\n"
     ]
    }
   ],
   "source": [
    "freq = get_frequency_table(lst)\n",
    "show_frequency_table(freq)"
   ]
  },
  {
   "cell_type": "code",
   "execution_count": 52,
   "id": "3c4219b9-06ec-4eeb-b6a3-76fe416f81d6",
   "metadata": {
    "tags": []
   },
   "outputs": [
    {
     "data": {
      "image/png": "[encoded data removed]",
      "text/plain": [
       "<Figure size 640x480 with 1 Axes>"
      ]
     },
     "metadata": {},
     "output_type": "display_data"
    }
   ],
   "source": [
    "freq_diagram(freq)"
   ]
  },
  {
   "cell_type": "code",
   "execution_count": 53,
   "id": "22ef03b5-dc39-4362-bd06-7213b27aee3d",
   "metadata": {
    "tags": []
   },
   "outputs": [
    {
     "data": {
      "image/png": "[encoded data removed]",
      "text/plain": [
       "<Figure size 640x480 with 1 Axes>"
      ]
     },
     "metadata": {},
     "output_type": "display_data"
    }
   ],
   "source": [
    "freq_polygon(freq)"
   ]
  },
  {
   "cell_type": "code",
   "execution_count": 54,
   "id": "ee566a58-5235-4c9e-b45c-2eeb5d1966c3",
   "metadata": {},
   "outputs": [
    {
     "data": {
      "image/png": "[encoded data removed]",
      "text/plain": [
       "<Figure size 640x480 with 1 Axes>"
      ]
     },
     "metadata": {},
     "output_type": "display_data"
    }
   ],
   "source": [
    "def emp_func(freq):\n",
    "    variants = list(freq.keys())\n",
    "    length = len(lst)\n",
    "    total = 0\n",
    "    values = []\n",
    "    for val in variants:\n",
    "        total += freq[val]\n",
    "        values.append(total/length)\n",
    "    \n",
    "    return variants, values\n",
    "\n",
    "def plot_emp_func(variants, values):\n",
    "    for i in range(len(variants) - 1):\n",
    "        plt.hlines(values[i], variants[i], variants[i + 1])\n",
    "    plt.hlines(values[i+1], variants[i+1], variants[i+1]+4, color='b')\n",
    "    plt.xlabel('Варіанти')\n",
    "    plt.ylabel('Значення')\n",
    "    plt.title('Функція емпіричного розподілу')\n",
    "    plt.grid(True)\n",
    "    plt.show()\n",
    "    \n",
    "\n",
    "var,val = emp_func(freq)\n",
    "plot_emp_func(var,val)"
   ]
  },
  {
   "cell_type": "code",
   "execution_count": 55,
   "id": "21f1448f-bbec-4ef7-bb44-7d6328d6b065",
   "metadata": {},
   "outputs": [
    {
     "name": "stdout",
     "output_type": "stream",
     "text": [
      "Числові характеристики:\n",
      "Середнє арифметичне: 9.18\n",
      "Медіана: 10.5\n",
      "Мода: [13]\n",
      "Девiацiя: 615.3800000000001\n",
      "Варіанса: 12.558775510204084\n",
      "Вибіркова дисперсія: 12.307600000000003\n",
      "Середньоквадратчне відхилення вибірки: 3.5082189213331603\n",
      "Стандарт: 3.543836270230904\n",
      "Варіація: 0.3860388093933447\n",
      "Розмах: 12\n",
      "Момент 2: 12.307600000000003\n",
      "Момент 3: 3.248064000000006\n",
      "Момент 4: 264.16774671999997\n",
      "Асиметрія: 0.07522540218315615\n",
      "Ексес: -1.2560539504511046\n",
      "Квантилі: [7, 8, 13]\n",
      "Децилі: [5, 6, 7, 8, 8, 10, 12, 13, 14]\n",
      "Цетилі: [3, 3, 3, 3, 4, 4, 4, 4, 5, 5, 5, 5, 5, 5, 5, 5, 5, 5, 6, 6, 6, 6, 6, 6, 7, 7, 7, 7, 7, 7, 7, 7, 7, 7, 7, 7, 7, 7, 8, 8, 8, 8, 8, 8, 8, 8, 8, 8, 8, 8, 8, 8, 9, 9, 9, 9, 9, 9, 10, 10, 10, 10, 11, 11, 11, 11, 12, 12, 12, 12, 13, 13, 13, 13, 13, 13, 13, 13, 13, 13, 13, 13, 13, 13, 13, 13, 14, 14, 14, 14, 14, 14, 14, 14, 14, 14, 15, 15, 15, 15]\n"
     ]
    }
   ],
   "source": [
    "print(\"Числові характеристики:\")\n",
    "print(\"Середнє арифметичне:\", get_average(lst))\n",
    "print(\"Медіана:\", get_mediana(lst))\n",
    "print(\"Мода:\", get_moda(lst))\n",
    "print(\"Девiацiя:\", get_dev(lst))\n",
    "print(\"Варіанса:\", get_variance(lst))\n",
    "print(\"Вибіркова дисперсія:\", get_dyspersia(lst))\n",
    "print(\"Середньоквадратчне відхилення вибірки:\", get_square_avg(lst))\n",
    "print(\"Стандарт:\", get_standart(lst))\n",
    "print(\"Варіація:\", get_variation(lst))\n",
    "print(\"Розмах:\", get_scope(lst))\n",
    "print(\"Момент 2:\", get_moment(lst,2))\n",
    "print(\"Момент 3:\", get_moment(lst,3))\n",
    "print(\"Момент 4:\", get_moment(lst,4))\n",
    "print(\"Асиметрія:\", get_asymetry(lst))\n",
    "print(\"Ексес:\", get_exes(lst))\n",
    "print(\"Квантилі:\", get_quantiles(lst))\n",
    "print(\"Децилі:\", get_deciles(lst))\n",
    "print(\"Цетилі:\", get_cetiles(lst))"
   ]
  },
  {
   "cell_type": "code",
   "execution_count": 56,
   "id": "05e84f55-1995-4fea-bed5-2d64ae396d89",
   "metadata": {
    "tags": []
   },
   "outputs": [],
   "source": [
    "# TASK 2\n",
    "\n",
    "def create_intervals(lst, n):\n",
    "    res = {}\n",
    "    min_val = min(lst)\n",
    "    max_val = max(lst)\n",
    "    \n",
    "    interval_width = (max_val - min_val) / n\n",
    "    \n",
    "    intervals = [(min_val + i * interval_width, min_val + (i + 1) * interval_width) for i in range(n)]\n",
    "    \n",
    "    frequencies = [0] * n\n",
    "    for value in lst:\n",
    "        for i, (interval_start, interval_end) in enumerate(intervals):\n",
    "            if interval_start <= value < interval_end:\n",
    "                frequencies[i] += 1\n",
    "                break\n",
    "            if value == max_val:\n",
    "                frequencies[-1]+=1\n",
    "                break\n",
    "    for i in range(n):\n",
    "        res[intervals[i]] = frequencies[i]\n",
    "    return res\n",
    "    \n",
    "\n",
    "def get_mid(interval):\n",
    "    return (interval[0]+interval[1])/2\n",
    "\n",
    "\n",
    "def plot_histogram(intervals, frequencies):\n",
    "    plt.bar(range(len(intervals)), frequencies, edgecolor='black')\n",
    "    plt.xlabel('Інтервали')\n",
    "    plt.ylabel('Частоти')\n",
    "    plt.title('Гістограма інтервальної вибірки')\n",
    "    plt.xticks(range(len(intervals)), [f'{interval[0]}-{interval[1]}' for interval in intervals])\n",
    "    plt.show()\n"
   ]
  },
  {
   "cell_type": "code",
   "execution_count": 57,
   "id": "c5606652-06e4-4c94-85a8-b138f75391b1",
   "metadata": {
    "tags": []
   },
   "outputs": [
    {
     "name": "stdout",
     "output_type": "stream",
     "text": [
      "Вибірка:\n",
      "[7, 8, 8, 11, 12, 4, 14, 9, 8, 5, 10, 8, 13, 13, 7, 6, 14, 13, 13, 3, 15, 8, 8, 5, 14, 7, 11, 5, 7, 13, 4, 7, 6, 3, 6, 13, 8, 5, 12, 7, 13, 5, 14, 10, 14, 9, 9, 13, 15, 7]\n"
     ]
    }
   ],
   "source": [
    "print(\"Вибірка:\")\n",
    "print(lst)"
   ]
  },
  {
   "cell_type": "code",
   "execution_count": 58,
   "id": "cba579ce-bce7-4d5b-95b0-374f7671f172",
   "metadata": {
    "tags": []
   },
   "outputs": [
    {
     "name": "stdin",
     "output_type": "stream",
     "text": [
      "Введіть кількість інтервалів для поділу: 4\n"
     ]
    }
   ],
   "source": [
    "n = int(input(\"Введіть кількість інтервалів для поділу:\"))\n",
    "freq_interval = create_intervals(lst,n)\n"
   ]
  },
  {
   "cell_type": "code",
   "execution_count": 59,
   "id": "757bcad6-920c-409a-821c-1ff15faa4353",
   "metadata": {
    "tags": []
   },
   "outputs": [
    {
     "name": "stdout",
     "output_type": "stream",
     "text": [
      "Interval                    n\n",
      "(3.0, 6.0)                9\n",
      "(6.0, 9.0)                17\n",
      "(9.0, 12.0)                7\n",
      "(12.0, 15.0)                17\n"
     ]
    }
   ],
   "source": [
    "print('Interval                    n')\n",
    "for k, v in freq_interval.items():\n",
    "    print(k, '              ', v)"
   ]
  },
  {
   "cell_type": "code",
   "execution_count": 60,
   "id": "832e64c4-6ea0-4948-b102-bc1d57a39015",
   "metadata": {
    "tags": []
   },
   "outputs": [
    {
     "name": "stdout",
     "output_type": "stream",
     "text": [
      "Інтервальний статистичний розподіл:\n"
     ]
    },
    {
     "data": {
      "image/png": "[encoded data removed]",
      "text/plain": [
       "<Figure size 640x480 with 1 Axes>"
      ]
     },
     "metadata": {},
     "output_type": "display_data"
    }
   ],
   "source": [
    "print(\"Інтервальний статистичний розподіл:\")\n",
    "plot_histogram(freq_interval.keys(), freq_interval.values())"
   ]
  },
  {
   "cell_type": "code",
   "execution_count": 61,
   "id": "f1e9470a-fa61-4b48-b7a6-0b39b9d3d2c3",
   "metadata": {
    "tags": []
   },
   "outputs": [
    {
     "name": "stdout",
     "output_type": "stream",
     "text": [
      "Емпірична функція для інтервального розподілу\n"
     ]
    },
    {
     "data": {
      "image/png": "[encoded data removed]",
      "text/plain": [
       "<Figure size 640x480 with 1 Axes>"
      ]
     },
     "metadata": {},
     "output_type": "display_data"
    }
   ],
   "source": [
    "def plot_interval_emp_func(intervals,values):\n",
    "    for i in range(len(intervals)):\n",
    "        plt.hlines(values[i], intervals[i][0], intervals[i][1], colors='b')\n",
    "        plt.plot([intervals[i][0], intervals[i][1]], [values[i], values[i]], color='b', linewidth=1)\n",
    "    plt.xlabel('Інтервали')\n",
    "    plt.ylabel('Значення')\n",
    "    plt.title('Функція емпіричного розподілу')\n",
    "    plt.grid(True)\n",
    "    plt.show()\n",
    "    \n",
    "    \n",
    "\n",
    "var_interval,val_interval = emp_func(freq_interval)\n",
    "print(\"Емпірична функція для інтервального розподілу\")\n",
    "plot_interval_emp_func(var_interval,val_interval)"
   ]
  },
  {
   "cell_type": "code",
   "execution_count": 62,
   "id": "db4f07b3-745e-462c-88fc-6100c45edabc",
   "metadata": {
    "tags": []
   },
   "outputs": [],
   "source": [
    "# Interval numerical characteristics\n",
    "def get_interval_average(freq_interval):\n",
    "    intervals = list(freq_interval.keys())\n",
    "    frequencies = list(freq_interval.values())\n",
    "    total_cases = sum(frequencies)\n",
    "    weighted_sum = sum(get_mid(interval) * freq for interval, freq in zip(intervals, frequencies))\n",
    "    res = weighted_sum / total_cases\n",
    "    return res\n",
    "\n",
    "\n",
    "def get_interval_median(freq_interval):\n",
    "    intervals = list(freq_interval.keys())\n",
    "    frequencies = list(freq_interval.values())\n",
    "    x1=0\n",
    "    f1 = 0\n",
    "    f2 = 0\n",
    "    suma = 0\n",
    "    for i in range(len(intervals)):\n",
    "        suma += frequencies[i]/sum(frequencies) \n",
    "        if suma >= 0.5:\n",
    "            x1 = intervals[i][0]\n",
    "            x2 = intervals[i][1]\n",
    "            f = frequencies[i]\n",
    "            break\n",
    "            \n",
    "    median = x1 + ((x2 - x1) / f)*(len(intervals)/2 - suma-f)\n",
    "    return median\n",
    "\n",
    "def get_interval_moda(freq_interval):\n",
    "    intervals = list(freq_interval.keys())\n",
    "    frequencies = list(freq_interval.values())\n",
    "    max_freq_index = frequencies.index(max(frequencies))\n",
    "    h1 = intervals[max_freq_index][1]\n",
    "    h2 = intervals[max_freq_index][0]\n",
    "    n1 = frequencies[max_freq_index]\n",
    "    try:\n",
    "        n2 = frequencies[max_freq_index-1]\n",
    "    except:\n",
    "        n2 = frequencies[max_freq_index]\n",
    "    try:\n",
    "        n3 = frequencies[max_freq_index+1]\n",
    "    except:\n",
    "        n3 = frequencies[max_freq_index]\n",
    "    return h2+((n1-n2)/((n1-n2)+(n1-n3))*(h1-h2))\n",
    "\n",
    "def get_interval_deviation(freq_interval):\n",
    "    intervals = list(freq_interval.keys())\n",
    "    frequencies = list(freq_interval.values())\n",
    "    midpoints = [get_mid(interval) for interval in intervals]\n",
    "    avg = get_interval_average(freq_interval)\n",
    "    deviation = sum(freq * (midpoint - avg) ** 2 for midpoint, freq in zip(midpoints, frequencies))\n",
    "    return deviation\n",
    "\n",
    "def get_interval_variance(freq_interval):\n",
    "    return get_interval_deviation(freq_interval)/(len(freq_interval) - 1)\n",
    "\n",
    "def get_interval_standart(freq_interval):\n",
    "    return get_interval_variance(freq_interval)**0.5\n",
    "\n",
    "def get_interval_dyspersia(freq_interval):\n",
    "    return get_interval_deviation(freq_interval) / len(freq_interval)\n",
    "\n",
    "def get_interval_square_avg(freq_interval):\n",
    "    return get_interval_dyspersia(freq_interval)**0.5\n",
    "\n",
    "def get_interval_variation(freq_interval):\n",
    "    return get_interval_standart(freq_interval)/get_interval_average(freq_interval)\n",
    "\n",
    "def get_interval_moment(freq_interval, s):\n",
    "    intervals = list(freq_interval.keys())\n",
    "    frequencies = list(freq_interval.values())\n",
    "    mean = get_interval_average(freq_interval)\n",
    "    central_moment = 0\n",
    "    total_cases = sum(frequencies)\n",
    "    for interval, freq in zip(intervals, frequencies):\n",
    "        midpoint = get_mid(interval)\n",
    "        central_moment += freq * ((midpoint - mean) ** s)\n",
    "    return central_moment / total_cases\n",
    "\n",
    "def get_interval_asymetry(freq_interval):\n",
    "    return get_interval_moment(freq_interval,3)/get_interval_moment(freq_interval,2)**1.5\n",
    "\n",
    "def get_interval_exes(freq_interval):\n",
    "    return get_interval_moment(freq_interval,4)/get_interval_moment(freq_interval,2)**2 - 3\n",
    "\n",
    "def get_interval_scope(freq_interval):\n",
    "    intervals = list(freq_interval.keys())\n",
    "    min_value = intervals[0][0]\n",
    "    max_value = intervals[-1][1]\n",
    "    res = max_value - min_value\n",
    "    return res\n",
    "    "
   ]
  },
  {
   "cell_type": "code",
   "execution_count": 63,
   "id": "285d7c1f-1cda-49bf-a67e-cfc6a26a65d9",
   "metadata": {
    "tags": []
   },
   "outputs": [
    {
     "name": "stdout",
     "output_type": "stream",
     "text": [
      "Числові характеристики:\n",
      "Середнє арифметичне: 9.42\n",
      "Медіана: 3.2611764705882353\n",
      "Мода: 7.333333333333333\n",
      "Девiацiя: 571.68\n",
      "Варіанса: 190.55999999999997\n",
      "Вибіркова дисперсія: 142.92\n",
      "Середньоквадратчне відхилення вибірки: 11.954915307102764\n",
      "Варіація: 1.4654296328439402\n",
      "Стандарт: 13.804347141389917\n",
      "Розмах: 12.0\n",
      "Момент 2: 11.433599999999998\n",
      "Момент 3: -0.5754239999999936\n",
      "Момент 4: 204.49677312\n",
      "Асиметрія: -0.014883788151693549\n",
      "Ексес: -1.4356984689960592\n"
     ]
    }
   ],
   "source": [
    "print(\"Числові характеристики:\")\n",
    "print(\"Середнє арифметичне:\", get_interval_average(freq_interval))\n",
    "print(\"Медіана:\", get_interval_median(freq_interval))\n",
    "print(\"Мода:\", get_interval_moda(freq_interval))\n",
    "print(\"Девiацiя:\", get_interval_deviation(freq_interval))\n",
    "print(\"Варіанса:\", get_interval_variance(freq_interval))\n",
    "print(\"Вибіркова дисперсія:\", get_interval_dyspersia(freq_interval))\n",
    "print(\"Середньоквадратчне відхилення вибірки:\", get_interval_square_avg(freq_interval))\n",
    "print(\"Варіація:\", get_interval_variation(freq_interval))\n",
    "print(\"Стандарт:\", get_interval_standart(freq_interval))\n",
    "print(\"Розмах:\", get_interval_scope(freq_interval))\n",
    "print(\"Момент 2:\", get_interval_moment(freq_interval,2))\n",
    "print(\"Момент 3:\", get_interval_moment(freq_interval,3))\n",
    "print(\"Момент 4:\", get_interval_moment(freq_interval,4))\n",
    "print(\"Асиметрія:\", get_interval_asymetry(freq_interval))\n",
    "print(\"Ексес:\", get_interval_exes(freq_interval))"
   ]
  },
  {
   "cell_type": "code",
   "execution_count": null,
   "id": "9c3df6a2-ea4c-4481-9044-e08e4b5a07e5",
   "metadata": {},
   "outputs": [],
   "source": []
  },
  {
   "cell_type": "code",
   "execution_count": null,
   "id": "28c3c7d1-56ee-4eef-a9e5-653589fcee0d",
   "metadata": {},
   "outputs": [],
   "source": []
  }
 ],
 "metadata": {
  "kernelspec": {
   "display_name": "Python 3 (ipykernel)",
   "language": "python",
   "name": "python3"
  },
  "language_info": {
   "codemirror_mode": {
    "name": "ipython",
    "version": 3
   },
   "file_extension": ".py",
   "mimetype": "text/x-python",
   "name": "python",
   "nbconvert_exporter": "python",
   "pygments_lexer": "ipython3",
   "version": "3.11.5"
  }
 },
 "nbformat": 4,
 "nbformat_minor": 5
}
