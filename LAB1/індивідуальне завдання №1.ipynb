{
 "cells": [
  {
   "cell_type": "code",
   "execution_count": 117,
   "id": "b077d9c6-ed7c-48ef-964d-a0aae3db8b3a",
   "metadata": {},
   "outputs": [],
   "source": [
    "import numpy as np\n",
    "import matplotlib.pyplot as plt\n",
    "import pandas as pd"
   ]
  },
  {
   "cell_type": "markdown",
   "id": "b92cf296-652c-4f5f-a5ea-152e8810c45f",
   "metadata": {},
   "source": [
    "**Завдання 1**"
   ]
  },
  {
   "cell_type": "code",
   "execution_count": 118,
   "id": "a5467398-fb3c-462c-9a3a-88e22c05247e",
   "metadata": {},
   "outputs": [],
   "source": [
    "# Задаємо параметри для генерації дискретної випадкової змінної\n",
    "min_value = 1\n",
    "max_value = 20\n",
    "sample_size = 50\n",
    "\n",
    "# Генеруємо випадкову вибірку\n",
    "sample = np.random.randint(min_value, max_value, sample_size)"
   ]
  },
  {
   "cell_type": "code",
   "execution_count": 119,
   "id": "f8acbb01-66bb-412b-a4c3-29a5a0873e02",
   "metadata": {},
   "outputs": [
    {
     "name": "stdout",
     "output_type": "stream",
     "text": [
      "Кількість:  50\n",
      "Ліва границя:  1\n",
      "Права границя:  20\n",
      "Вибірка:  [1, 5, 4, 1, 4, 2, 1, 18, 2, 19, 11, 5, 6, 10, 6, 3, 19, 13, 9, 3, 11, 7, 13, 2, 6, 19, 4, 5, 10, 14, 14, 14, 18, 19, 13, 9, 17, 15, 4, 11, 11, 11, 4, 16, 17, 9, 17, 18, 12, 8]\n",
      "Варіаційний ряд:  [1, 1, 1, 2, 2, 2, 3, 3, 4, 4, 4, 4, 4, 5, 5, 5, 6, 6, 6, 7, 8, 9, 9, 9, 10, 10, 11, 11, 11, 11, 11, 12, 13, 13, 13, 14, 14, 14, 15, 16, 17, 17, 17, 18, 18, 18, 19, 19, 19, 19]\n",
      "Частотна таблиця:\n"
     ]
    },
    {
     "data": {
      "text/html": [
       "<div>\n",
       "<style scoped>\n",
       "    .dataframe tbody tr th:only-of-type {\n",
       "        vertical-align: middle;\n",
       "    }\n",
       "\n",
       "    .dataframe tbody tr th {\n",
       "        vertical-align: top;\n",
       "    }\n",
       "\n",
       "    .dataframe thead th {\n",
       "        text-align: right;\n",
       "    }\n",
       "</style>\n",
       "<table border=\"1\" class=\"dataframe\">\n",
       "  <thead>\n",
       "    <tr style=\"text-align: right;\">\n",
       "      <th></th>\n",
       "      <th>0</th>\n",
       "      <th>1</th>\n",
       "      <th>2</th>\n",
       "      <th>3</th>\n",
       "      <th>4</th>\n",
       "      <th>5</th>\n",
       "      <th>6</th>\n",
       "      <th>7</th>\n",
       "      <th>8</th>\n",
       "      <th>9</th>\n",
       "      <th>10</th>\n",
       "      <th>11</th>\n",
       "      <th>12</th>\n",
       "      <th>13</th>\n",
       "      <th>14</th>\n",
       "      <th>15</th>\n",
       "      <th>16</th>\n",
       "      <th>17</th>\n",
       "      <th>18</th>\n",
       "    </tr>\n",
       "  </thead>\n",
       "  <tbody>\n",
       "    <tr>\n",
       "      <th>x[i]</th>\n",
       "      <td>1</td>\n",
       "      <td>2</td>\n",
       "      <td>3</td>\n",
       "      <td>4</td>\n",
       "      <td>5</td>\n",
       "      <td>6</td>\n",
       "      <td>7</td>\n",
       "      <td>8</td>\n",
       "      <td>9</td>\n",
       "      <td>10</td>\n",
       "      <td>11</td>\n",
       "      <td>12</td>\n",
       "      <td>13</td>\n",
       "      <td>14</td>\n",
       "      <td>15</td>\n",
       "      <td>16</td>\n",
       "      <td>17</td>\n",
       "      <td>18</td>\n",
       "      <td>19</td>\n",
       "    </tr>\n",
       "    <tr>\n",
       "      <th>n[i]</th>\n",
       "      <td>3</td>\n",
       "      <td>3</td>\n",
       "      <td>2</td>\n",
       "      <td>5</td>\n",
       "      <td>3</td>\n",
       "      <td>3</td>\n",
       "      <td>1</td>\n",
       "      <td>1</td>\n",
       "      <td>3</td>\n",
       "      <td>2</td>\n",
       "      <td>5</td>\n",
       "      <td>1</td>\n",
       "      <td>3</td>\n",
       "      <td>3</td>\n",
       "      <td>1</td>\n",
       "      <td>1</td>\n",
       "      <td>3</td>\n",
       "      <td>3</td>\n",
       "      <td>4</td>\n",
       "    </tr>\n",
       "  </tbody>\n",
       "</table>\n",
       "</div>"
      ],
      "text/plain": [
       "      0   1   2   3   4   5   6   7   8   9   10  11  12  13  14  15  16  17  \\\n",
       "x[i]   1   2   3   4   5   6   7   8   9  10  11  12  13  14  15  16  17  18   \n",
       "n[i]   3   3   2   5   3   3   1   1   3   2   5   1   3   3   1   1   3   3   \n",
       "\n",
       "      18  \n",
       "x[i]  19  \n",
       "n[i]   4  "
      ]
     },
     "execution_count": 119,
     "metadata": {},
     "output_type": "execute_result"
    }
   ],
   "source": [
    "# Створюємо варіаційний ряд та частотну таблицю\n",
    "def unique(sample):\n",
    "    unique = []\n",
    "    counts = []\n",
    "    for i in sorted(sample):\n",
    "        if i not in unique:\n",
    "            counts.append(len(list(filter(lambda x: x == i, sample))))\n",
    "            unique.append(i)\n",
    "    return [unique, counts]\n",
    "    \n",
    "unique_values, counts = unique(sample)\n",
    "\n",
    "table = pd.DataFrame(counts, unique_values)\n",
    "table.reset_index(inplace = True)\n",
    "table = table.T\n",
    "table.index = [\"x[i]\",\"n[i]\"]\n",
    "print(\"Кількість: \", sample_size)\n",
    "print(\"Ліва границя: \", min_value)\n",
    "print(\"Права границя: \", max_value)\n",
    "print(\"Вибірка: \", list(sample))\n",
    "print(\"Варіаційний ряд: \", list(np.sort(sample)))\n",
    "print(\"Частотна таблиця:\")\n",
    "table"
   ]
  },
  {
   "cell_type": "code",
   "execution_count": 120,
   "id": "ac78df10-0f44-4926-a320-b9a146a3a79d",
   "metadata": {},
   "outputs": [
    {
     "name": "stdout",
     "output_type": "stream",
     "text": [
      "Середнє значення: 9.8\n",
      "Медіана: 10.0\n",
      "Мода: 4\n",
      "Дисперсія: 33.16000000000001\n",
      "Стандартне відхилення: 5.758472019555189\n"
     ]
    }
   ],
   "source": [
    "# Обчислення числових характеристик дискретного розподілу\n",
    "def calculate_mean(data):\n",
    "    return sum(data) / len(data)\n",
    "\n",
    "# Функція для обчислення медіани\n",
    "def calculate_median(data):\n",
    "    sorted_data = sorted(data)\n",
    "    n = len(sorted_data)\n",
    "    if n % 2 == 0:\n",
    "        return (sorted_data[n//2 - 1] + sorted_data[n//2]) / 2\n",
    "    else:\n",
    "        return sorted_data[n//2]\n",
    "\n",
    "# Функція для обчислення моди\n",
    "def calculate_mode(data):\n",
    "    unique_values, counts = unique(data)\n",
    "    return unique_values[np.argmax(counts)]\n",
    "\n",
    "# Функція для обчислення дисперсії\n",
    "def calculate_variance(data):\n",
    "    mean = calculate_mean(data)\n",
    "    deviations = [(x - mean) ** 2 for x in data]\n",
    "    return sum(deviations) / len(data)\n",
    "\n",
    "# Функція для обчислення стандартного відхилення\n",
    "def calculate_std_dev(data):\n",
    "    return calculate_variance(data) ** 0.5\n",
    "    \n",
    "mean = calculate_mean(sample)\n",
    "median = calculate_median(sample)\n",
    "mode = calculate_mode(sample)\n",
    "variance = calculate_variance(sample)\n",
    "std_dev = calculate_std_dev(sample)\n",
    "\n",
    "print(f'Середнє значення: {mean}')\n",
    "print(f'Медіана: {median}')\n",
    "print(f'Мода: {mode}')\n",
    "print(f'Дисперсія: {variance}')\n",
    "print(f'Стандартне відхилення: {std_dev}')"
   ]
  },
  {
   "cell_type": "code",
   "execution_count": 121,
   "id": "4cecc1ca-ab27-4d72-8dfe-5cea2e8b959f",
   "metadata": {},
   "outputs": [
    {
     "data": {
      "image/png": "[encoded data removed]",
      "text/plain": [
       "<Figure size 640x480 with 1 Axes>"
      ]
     },
     "metadata": {},
     "output_type": "display_data"
    }
   ],
   "source": [
    "y = [0]\n",
    "for i in counts:\n",
    "    y.append(y[len(y)-1]+i/sample_size)\n",
    "xmin = [unique_values[0]-1, *unique_values]\n",
    "xmax = [*unique_values, unique_values[-1]+1]\n",
    "fig, ax = plt.subplots(1, 1)\n",
    "ax.hlines(y, xmin, xmax)\n",
    "plt.title('Емпірична функція розподілу')\n",
    "plt.xlabel('Значення')\n",
    "plt.ylabel('Ймовірність')\n",
    "plt.show()"
   ]
  },
  {
   "cell_type": "code",
   "execution_count": 122,
   "id": "9e04d3c1-5285-407c-bcda-c7771fea02ad",
   "metadata": {},
   "outputs": [
    {
     "data": {
      "image/png": "[encoded data removed]",
      "text/plain": [
       "<Figure size 640x480 with 1 Axes>"
      ]
     },
     "metadata": {},
     "output_type": "display_data"
    }
   ],
   "source": [
    "# Побудова полігона частот\n",
    "plt.plot(unique_values, counts, marker='o')\n",
    "plt.title('Полігон частот')\n",
    "plt.xlabel('x[i]')\n",
    "plt.ylabel('Частота')\n",
    "plt.grid(True)\n",
    "plt.show()"
   ]
  },
  {
   "cell_type": "markdown",
   "id": "21ffb501-6844-432b-9e79-9bb2bb7a82cf",
   "metadata": {},
   "source": [
    "**Завдання 2**"
   ]
  },
  {
   "cell_type": "code",
   "execution_count": 123,
   "id": "07166c1b-ca42-405b-bb41-aa4eb5b17b3b",
   "metadata": {},
   "outputs": [
    {
     "data": {
      "image/png": "[encoded data removed]",
      "text/plain": [
       "<Figure size 640x480 with 1 Axes>"
      ]
     },
     "metadata": {},
     "output_type": "display_data"
    }
   ],
   "source": [
    "interval_length = int(np.ceil((max_value-min_value)/int(np.ceil(np.log2(len(unique_values))))))\n",
    "bins=np.arange(min_value, max_value, interval_length)\n",
    "if max_value-1 not in bins:\n",
    "    bins = np.append(bins, [max_value-1])\n",
    "\n",
    "plt.hist(sample, bins=bins, edgecolor='w')\n",
    "plt.xticks(bins);"
   ]
  },
  {
   "cell_type": "code",
   "execution_count": 124,
   "id": "aa9cda6e-c198-4d61-90c6-cddb4db4ab9e",
   "metadata": {},
   "outputs": [],
   "source": [
    "table_list = []\n",
    "for i in range(len(counts)):\n",
    "    table_list.append([unique_values[i],counts[i]])"
   ]
  },
  {
   "cell_type": "code",
   "execution_count": 125,
   "id": "f1b1e3b5-c129-4ca0-a343-fa0c39dbd801",
   "metadata": {},
   "outputs": [
    {
     "name": "stdout",
     "output_type": "stream",
     "text": [
      "[[1, 5], [5, 9], [9, 13], [13, 17], [17, 19]] [13, 8, 11, 8, 10]\n"
     ]
    }
   ],
   "source": [
    "indexes = []\n",
    "interval_counts = []\n",
    "bins = list(bins)\n",
    "for i in range(len(bins)-1):\n",
    "    indexes.append([bins[i],bins[i+1]])\n",
    "    if (i+1>=len(bins)-1):\n",
    "        interval_counts.append(sum(list(map(lambda a : a[1],filter(lambda a : a[0]>=bins[i] and a[0]<=bins[i+1], table_list)))))\n",
    "        break\n",
    "    interval_counts.append(sum(list(map(lambda a : a[1],filter(lambda a : a[0]>=bins[i] and a[0]<bins[i+1], table_list)))))\n",
    "print(indexes, interval_counts)"
   ]
  },
  {
   "cell_type": "code",
   "execution_count": 126,
   "id": "88ea2549-57ed-40e6-83f8-56be62f64cde",
   "metadata": {},
   "outputs": [
    {
     "name": "stdout",
     "output_type": "stream",
     "text": [
      "Інтервальний розподіл\n"
     ]
    },
    {
     "data": {
      "text/html": [
       "<div>\n",
       "<style scoped>\n",
       "    .dataframe tbody tr th:only-of-type {\n",
       "        vertical-align: middle;\n",
       "    }\n",
       "\n",
       "    .dataframe tbody tr th {\n",
       "        vertical-align: top;\n",
       "    }\n",
       "\n",
       "    .dataframe thead th {\n",
       "        text-align: right;\n",
       "    }\n",
       "</style>\n",
       "<table border=\"1\" class=\"dataframe\">\n",
       "  <thead>\n",
       "    <tr style=\"text-align: right;\">\n",
       "      <th></th>\n",
       "      <th>0</th>\n",
       "      <th>1</th>\n",
       "      <th>2</th>\n",
       "      <th>3</th>\n",
       "      <th>4</th>\n",
       "    </tr>\n",
       "  </thead>\n",
       "  <tbody>\n",
       "    <tr>\n",
       "      <th>інтервали</th>\n",
       "      <td>(1; 5)</td>\n",
       "      <td>(5; 9)</td>\n",
       "      <td>(9; 13)</td>\n",
       "      <td>(13; 17)</td>\n",
       "      <td>(17; 19)</td>\n",
       "    </tr>\n",
       "    <tr>\n",
       "      <th>n</th>\n",
       "      <td>13</td>\n",
       "      <td>8</td>\n",
       "      <td>11</td>\n",
       "      <td>8</td>\n",
       "      <td>10</td>\n",
       "    </tr>\n",
       "  </tbody>\n",
       "</table>\n",
       "</div>"
      ],
      "text/plain": [
       "                0       1        2         3         4\n",
       "інтервали  (1; 5)  (5; 9)  (9; 13)  (13; 17)  (17; 19)\n",
       "n              13       8       11         8        10"
      ]
     },
     "execution_count": 126,
     "metadata": {},
     "output_type": "execute_result"
    }
   ],
   "source": [
    "intervaled = pd.DataFrame(interval_counts)\n",
    "intervaled.index = list(map(lambda n: f\"({n[0]}; {n[1]})\", indexes))\n",
    "print(\"Інтервальний розподіл\")\n",
    "intervaled.reset_index(inplace = True)\n",
    "intervaled = intervaled.T\n",
    "intervaled.index = [\"інтервали\", \"n\"]\n",
    "intervaled"
   ]
  },
  {
   "cell_type": "code",
   "execution_count": 127,
   "id": "9bd719f7-e827-41b5-a9fe-fe3bb47c75f6",
   "metadata": {},
   "outputs": [],
   "source": [
    "interval_list = []\n",
    "for i in range(len(interval_counts)):\n",
    "    interval_list.append([indexes[i],interval_counts[i]])\n",
    "\n",
    "def interval_mode(data):\n",
    "    max_index = list(map(lambda x: x[1], data)).index(max(list(map(lambda x: x[1], data))))\n",
    "    if max_index>0 and max_index<len(data):\n",
    "        return data[max_index][0][0]+interval_length*(data[max_index][1]-data[max_index-1][1])/((data[max_index][1]-data[max_index-1][1])+(data[max_index][1]-data[max_index+1][1]))\n",
    "    else:\n",
    "        return data[max_index][1]\n",
    "\n",
    "def interval_median(data):\n",
    "    median = 0\n",
    "    index = -1\n",
    "    for i in range(len(data)):\n",
    "        median += data[i][1]\n",
    "        if median>sample_size/2:\n",
    "            index = i\n",
    "            break\n",
    "    if index>0 and index<len(data):\n",
    "        return data[index][0][0]+(sample_size/2-sum(interval_counts[0:index]))*(data[index][0][1]-data[index][0][0])/(data[index][1])\n",
    "    else:\n",
    "        return median\n",
    "    "
   ]
  },
  {
   "cell_type": "code",
   "execution_count": 133,
   "id": "88932064-bef1-4b4e-b219-beeb7ce0bd7b",
   "metadata": {},
   "outputs": [
    {
     "name": "stdout",
     "output_type": "stream",
     "text": [
      "Мода інтервального розподілу:  13\n",
      "Медіана інтервального розподілу:  10.454545454545455\n"
     ]
    }
   ],
   "source": [
    "print(\"Мода інтервального розподілу: \", interval_mode(interval_list))\n",
    "print(\"Медіана інтервального розподілу: \", interval_median(interval_list))"
   ]
  },
  {
   "cell_type": "code",
   "execution_count": 130,
   "id": "4b08b76a-0d49-486a-8018-dbc9a3f977f3",
   "metadata": {},
   "outputs": [
    {
     "name": "stdout",
     "output_type": "stream",
     "text": [
      "Частотна таблиця\n"
     ]
    },
    {
     "data": {
      "text/html": [
       "<div>\n",
       "<style scoped>\n",
       "    .dataframe tbody tr th:only-of-type {\n",
       "        vertical-align: middle;\n",
       "    }\n",
       "\n",
       "    .dataframe tbody tr th {\n",
       "        vertical-align: top;\n",
       "    }\n",
       "\n",
       "    .dataframe thead th {\n",
       "        text-align: right;\n",
       "    }\n",
       "</style>\n",
       "<table border=\"1\" class=\"dataframe\">\n",
       "  <thead>\n",
       "    <tr style=\"text-align: right;\">\n",
       "      <th></th>\n",
       "      <th>0</th>\n",
       "      <th>1</th>\n",
       "      <th>2</th>\n",
       "      <th>3</th>\n",
       "      <th>4</th>\n",
       "    </tr>\n",
       "  </thead>\n",
       "  <tbody>\n",
       "    <tr>\n",
       "      <th>x[i]</th>\n",
       "      <td>3.0</td>\n",
       "      <td>7.0</td>\n",
       "      <td>11.0</td>\n",
       "      <td>15.0</td>\n",
       "      <td>18.0</td>\n",
       "    </tr>\n",
       "    <tr>\n",
       "      <th>n[i]</th>\n",
       "      <td>13.0</td>\n",
       "      <td>8.0</td>\n",
       "      <td>11.0</td>\n",
       "      <td>8.0</td>\n",
       "      <td>10.0</td>\n",
       "    </tr>\n",
       "  </tbody>\n",
       "</table>\n",
       "</div>"
      ],
      "text/plain": [
       "         0    1     2     3     4\n",
       "x[i]   3.0  7.0  11.0  15.0  18.0\n",
       "n[i]  13.0  8.0  11.0   8.0  10.0"
      ]
     },
     "execution_count": 130,
     "metadata": {},
     "output_type": "execute_result"
    }
   ],
   "source": [
    "discrete_intervaled = pd.DataFrame(interval_counts)\n",
    "n_intervaled = list(map(lambda n: float(n[0]+n[1])/2, indexes))\n",
    "discrete_intervaled.index = n_intervaled\n",
    "print(\"Частотна таблиця\")\n",
    "discrete_intervaled.reset_index(inplace = True)\n",
    "discrete_intervaled = discrete_intervaled.T\n",
    "discrete_intervaled.index = [\"x[i]\", \"n[i]\"]\n",
    "discrete_intervaled"
   ]
  },
  {
   "cell_type": "code",
   "execution_count": 134,
   "id": "75cb1bfd-511b-47e8-9f35-4f9147674793",
   "metadata": {},
   "outputs": [
    {
     "name": "stdout",
     "output_type": "stream",
     "text": [
      "Середнє вибіркове:  10.0\n",
      "Розмах:  15.0\n"
     ]
    }
   ],
   "source": [
    "print(\"Середнє вибіркове: \", calculate_mean(interval_counts))\n",
    "print(\"Розмах: \", n_intervaled[len(n_intervaled)-1]-n_intervaled[0])"
   ]
  },
  {
   "cell_type": "code",
   "execution_count": null,
   "id": "66a1879d-895b-4438-ba4f-00c96212b3d6",
   "metadata": {},
   "outputs": [],
   "source": []
  }
 ],
 "metadata": {
  "kernelspec": {
   "display_name": "Python 3 (ipykernel)",
   "language": "python",
   "name": "python3"
  },
  "language_info": {
   "codemirror_mode": {
    "name": "ipython",
    "version": 3
   },
   "file_extension": ".py",
   "mimetype": "text/x-python",
   "name": "python",
   "nbconvert_exporter": "python",
   "pygments_lexer": "ipython3",
   "version": "3.11.5"
  }
 },
 "nbformat": 4,
 "nbformat_minor": 5
}
