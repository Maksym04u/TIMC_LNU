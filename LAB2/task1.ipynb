{
 "cells": [
  {
   "cell_type": "code",
   "execution_count": 299,
   "id": "d829bcb6-bf66-4fc1-9f4b-44dc7d03ffcc",
   "metadata": {},
   "outputs": [],
   "source": [
    "# Variant 14"
   ]
  },
  {
   "cell_type": "code",
   "execution_count": 351,
   "id": "cb8ad071-8a25-403c-a46a-e46f3b2943c9",
   "metadata": {
    "tags": []
   },
   "outputs": [],
   "source": [
    "import matplotlib.pyplot as plt\n",
    "import pandas as pd"
   ]
  },
  {
   "cell_type": "code",
   "execution_count": 352,
   "id": "0ac93542-2444-4a2e-8cf0-9b325b8da16f",
   "metadata": {
    "tags": []
   },
   "outputs": [],
   "source": [
    "Laplas_values = {\n",
    "    0.00: 0,\n",
    "    0.01: 0.004,\n",
    "    0.02: 0.008,\n",
    "    0.03: 0.012,\n",
    "    0.04: 0.016,\n",
    "    0.05: 0.0199,\n",
    "    0.06: 0.0239,\n",
    "    0.07: 0.0279,\n",
    "    0.08: 0.0319,\n",
    "    0.09: 0.0359,\n",
    "    0.10: 0.0398,\n",
    "    0.11: 0.0438,\n",
    "    0.12: 0.0478,\n",
    "    0.13: 0.0517,\n",
    "    0.14: 0.0557,\n",
    "    0.15: 0.0596,\n",
    "    0.16: 0.0636,\n",
    "    0.17: 0.0675,\n",
    "    0.18: 0.0714,\n",
    "    0.19: 0.0753,\n",
    "    0.20: 0.0793,\n",
    "    0.21: 0.0832,\n",
    "    0.22: 0.0871,\n",
    "    0.23: 0.091,\n",
    "    0.24: 0.0948,\n",
    "    0.25: 0.0987,\n",
    "    0.26: 0.1026,\n",
    "    0.27: 0.1064,\n",
    "    0.28: 0.1103,\n",
    "    0.29: 0.1141,\n",
    "    0.30: 0.1179,\n",
    "    0.31: 0.1217,\n",
    "    0.32: 0.1255,\n",
    "    0.33: 0.1293,\n",
    "    0.34: 0.1331,\n",
    "    0.35: 0.1368,\n",
    "    0.36: 0.1406,\n",
    "    0.37: 0.1443,\n",
    "    0.38: 0.148,\n",
    "    0.39: 0.1517,\n",
    "    0.40: 0.1554,\n",
    "    0.41: 0.1591,\n",
    "    0.42: 0.1628,\n",
    "    0.43: 0.1664,\n",
    "    0.44: 0.17,\n",
    "    0.45: 0.1736,\n",
    "    0.46: 0.1772,\n",
    "    0.47: 0.1808,\n",
    "    0.48: 0.1844,\n",
    "    0.49: 0.1879,\n",
    "    0.50: 0.1915,\n",
    "    0.51: 0.195,\n",
    "    0.52: 0.1985,\n",
    "    0.53: 0.2019,\n",
    "    0.54: 0.2054,\n",
    "    0.55: 0.2088,\n",
    "    0.56: 0.2123,\n",
    "    0.57: 0.2157,\n",
    "    0.58: 0.219,\n",
    "    0.59: 0.2224,\n",
    "    0.60: 0.2257,\n",
    "    0.61: 0.2291,\n",
    "    0.62: 0.2324,\n",
    "    0.63: 0.2357,\n",
    "    0.64: 0.2389,\n",
    "    0.65: 0.2422,\n",
    "    0.66: 0.2454,\n",
    "    0.67: 0.2486,\n",
    "    0.68: 0.2517,\n",
    "    0.69: 0.2549,\n",
    "    0.70: 0.258,\n",
    "    0.71: 0.2611,\n",
    "    0.72: 0.2642,\n",
    "    0.73: 0.2673,\n",
    "    0.74: 0.2703,\n",
    "    0.75: 0.2734,\n",
    "    0.76: 0.2764,\n",
    "    0.77: 0.2794,\n",
    "    0.78: 0.2823,\n",
    "    0.79: 0.2852,\n",
    "    0.80: 0.2881,\n",
    "    0.81: 0.291,\n",
    "    0.82: 0.2939,\n",
    "    0.83: 0.2967,\n",
    "    0.84: 0.2995,\n",
    "    0.85: 0.3023,\n",
    "    0.86: 0.3051,\n",
    "    0.87: 0.3078,\n",
    "    0.88: 0.3106,\n",
    "    0.89: 0.3133,\n",
    "    0.90: 0.3159,\n",
    "    0.91: 0.3186,\n",
    "    0.92: 0.3212,\n",
    "    0.93: 0.3238,\n",
    "    0.94: 0.3264,\n",
    "    0.95: 0.3289,\n",
    "    0.96: 0.3315,\n",
    "    0.97: 0.334,\n",
    "    0.98: 0.3365,\n",
    "    0.99: 0.3389,\n",
    "    1.00: 0.3413,\n",
    "    1.01: 0.3438,\n",
    "    1.02: 0.3461,\n",
    "    1.03: 0.3485,\n",
    "    1.04: 0.3508,\n",
    "    1.05: 0.3531,\n",
    "    1.06: 0.3554,\n",
    "    1.07: 0.3577,\n",
    "    1.08: 0.3599,\n",
    "    1.09: 0.3621,\n",
    "    1.10: 0.3643,\n",
    "    1.11: 0.3665,\n",
    "    1.12: 0.3686,\n",
    "    1.13: 0.3708,\n",
    "    1.14: 0.3729,\n",
    "    1.15: 0.3749,\n",
    "    1.16: 0.377,\n",
    "    1.17: 0.379,\n",
    "    1.18: 0.381,\n",
    "    1.19: 0.383,\n",
    "    1.20: 0.3849,\n",
    "    1.21: 0.3869,\n",
    "    1.22: 0.3883,\n",
    "    1.23: 0.3907,\n",
    "    1.24: 0.3925,\n",
    "    1.25: 0.3944,\n",
    "    1.26: 0.3962,\n",
    "    1.27: 0.398,\n",
    "    1.28: 0.3997,\n",
    "    1.29: 0.4015,\n",
    "    1.30: 0.4032,\n",
    "    1.31: 0.4049,\n",
    "    1.32: 0.4066,\n",
    "    1.33: 0.4082,\n",
    "    1.34: 0.4099,\n",
    "    1.35: 0.4115,\n",
    "    1.36: 0.4131,\n",
    "    1.37: 0.4147,\n",
    "    1.38: 0.4162,\n",
    "    1.39: 0.4177,\n",
    "    1.40: 0.4192,\n",
    "    1.41: 0.4207,\n",
    "    1.42: 0.4222,\n",
    "    1.43: 0.4236,\n",
    "    1.44: 0.4251,\n",
    "    1.45: 0.4265,\n",
    "    1.46: 0.4279,\n",
    "    1.47: 0.4292,\n",
    "    1.48: 0.4306,\n",
    "    1.49: 0.4319,\n",
    "    1.50: 0.4332,\n",
    "    1.51: 0.4345,\n",
    "    1.52: 0.4357,\n",
    "    1.53: 0.437,\n",
    "    1.54: 0.4382,\n",
    "    1.55: 0.4394,\n",
    "    1.56: 0.4406,\n",
    "    1.57: 0.4418,\n",
    "    1.58: 0.4429,\n",
    "    1.59: 0.4441,\n",
    "    1.6: 0.4452,\n",
    "    1.61: 0.4463,\n",
    "    1.62: 0.4474,\n",
    "    1.63: 0.4484,\n",
    "    1.64: 0.4495,\n",
    "    1.65: 0.4505,\n",
    "    1.66: 0.4515,\n",
    "    1.67: 0.4525,\n",
    "    1.68: 0.4535,\n",
    "    1.69: 0.4545,\n",
    "    1.7: 0.4554,\n",
    "    1.71: 0.4564,\n",
    "    1.72: 0.4573,\n",
    "    1.73: 0.4582,\n",
    "    1.74: 0.4591,\n",
    "    1.75: 0.4599,\n",
    "    1.76: 0.4608,\n",
    "    1.77: 0.4616,\n",
    "    1.78: 0.4625,\n",
    "    1.79: 0.4633,\n",
    "    1.80: 0.4641,\n",
    "    1.81: 0.4649,\n",
    "    1.82: 0.4656,\n",
    "    1.83: 0.4664,\n",
    "    1.84: 0.4671,\n",
    "    1.85: 0.4678,\n",
    "    1.86: 0.468,\n",
    "    1.87: 0.4693,\n",
    "    1.88: 0.4699,\n",
    "    1.89: 0.4706,\n",
    "    1.90: 0.4713,\n",
    "    1.91: 0.4719,\n",
    "    1.92: 0.4726,\n",
    "    1.93: 0.4732,\n",
    "    1.94: 0.4738,\n",
    "    1.95: 0.4744,\n",
    "    1.96: 0.475,\n",
    "    1.97: 0.4756,\n",
    "    1.98: 0.4761,\n",
    "    1.99: 0.4767,\n",
    "    2.00: 0.4772,\n",
    "    2.01: 0.4778,\n",
    "    2.02: 0.4783,\n",
    "    2.03: 0.4788,\n",
    "    2.04: 0.4793,\n",
    "    2.05: 0.4798,\n",
    "    2.06: 0.4803,\n",
    "    2.07: 0.4808,\n",
    "    2.08: 0.4812,\n",
    "    2.09: 0.4817,\n",
    "    2.10: 0.4821,\n",
    "    2.11: 0.4826,\n",
    "    2.12: 0.483,\n",
    "    2.13: 0.4834,\n",
    "    2.14: 0.4838,\n",
    "    2.15: 0.4842,\n",
    "    2.16: 0.4846,\n",
    "    2.17: 0.4849,\n",
    "    2.18: 0.4854,\n",
    "    2.19: 0.4857,\n",
    "    2.20: 0.4861,\n",
    "    2.21: 0.4864,\n",
    "    2.22: 0.4868,\n",
    "    2.23: 0.4872,\n",
    "    2.24: 0.4875,\n",
    "    2.25: 0.4878,\n",
    "    2.26: 0.4881,\n",
    "    2.27: 0.4884,\n",
    "    2.28: 0.4887,\n",
    "    2.29: 0.4891,\n",
    "    2.30: 0.4893,\n",
    "    2.31: 0.4896,\n",
    "    2.32: 0.4898,\n",
    "    2.33: 0.4901,\n",
    "    2.34: 0.4904,\n",
    "    2.35: 0.4906,\n",
    "    2.36: 0.4909,\n",
    "    2.37: 0.4911,\n",
    "    2.38: 0.4913,\n",
    "    2.39: 0.4916,\n",
    "    2.40: 0.4918,\n",
    "    2.41: 0.492,\n",
    "    2.42: 0.4922,\n",
    "    2.43: 0.4925,\n",
    "    2.44: 0.4927,\n",
    "    2.45: 0.4929,\n",
    "    2.46: 0.4931,\n",
    "    2.47: 0.4933,\n",
    "    2.48: 0.4934,\n",
    "    2.49: 0.4936,\n",
    "    2.50: 0.4938,\n",
    "    2.51: 0.494,\n",
    "    2.52: 0.4941,\n",
    "    2.53: 0.4943,\n",
    "    2.54: 0.4945,\n",
    "    2.55: 0.4946,\n",
    "    2.56: 0.4948,\n",
    "    2.57: 0.4949,\n",
    "    2.58: 0.4951,\n",
    "    2.59: 0.4952,\n",
    "    2.60: 0.4953,\n",
    "    2.61: 0.4955,\n",
    "    2.62: 0.4956,\n",
    "    2.63: 0.4957,\n",
    "    2.64: 0.4959,\n",
    "    2.65: 0.4960,\n",
    "    2.66: 0.4961,\n",
    "    2.67: 0.4962,\n",
    "    2.68: 0.4963,\n",
    "    2.69: 0.4964,\n",
    "    2.70: 0.4965,\n",
    "    2.71: 0.4966,\n",
    "    2.72: 0.4967,\n",
    "    2.73: 0.4968,\n",
    "    2.74: 0.4969,\n",
    "    2.75: 0.497,\n",
    "    2.76: 0.4971,\n",
    "    2.77: 0.4972,\n",
    "    2.78: 0.4973,\n",
    "    2.79: 0.4974,\n",
    "    2.80: 0.4974,\n",
    "    2.81: 0.4975,\n",
    "    2.82: 0.4976,\n",
    "    2.83: 0.4977,\n",
    "    2.84: 0.4977,\n",
    "    2.85: 0.4978,\n",
    "    2.86: 0.4979,\n",
    "    2.87: 0.4980,\n",
    "    2.88: 0.4980,\n",
    "    2.89: 0.4981,\n",
    "    2.90: 0.4981,\n",
    "    2.91: 0.4982,\n",
    "    2.92: 0.4983,\n",
    "    2.93: 0.4983,\n",
    "    2.94: 0.4984,\n",
    "    2.95: 0.4984,\n",
    "    2.96: 0.4985,\n",
    "    2.97: 0.4985,\n",
    "    2.98: 0.4986,\n",
    "    2.99: 0.4986,\n",
    "    3.00: 0.4986,\n",
    "    3.01: 0.4987,\n",
    "    3.02: 0.4987,\n",
    "    3.03: 0.4988,\n",
    "    3.04: 0.4988,\n",
    "    3.05: 0.4989,\n",
    "    3.06: 0.4989,\n",
    "    3.07: 0.4989,\n",
    "    3.08: 0.4990,\n",
    "    3.09: 0.4990,\n",
    "    3.10: 0.4990,\n",
    "    3.11: 0.4991,\n",
    "    3.12: 0.4991,\n",
    "    3.13: 0.4991,\n",
    "    3.14: 0.4992,\n",
    "    3.15: 0.4992,\n",
    "    3.16: 0.4992,\n",
    "    3.17: 0.4992,\n",
    "    3.18: 0.4993,\n",
    "    3.19: 0.4993,\n",
    "    3.2: 0.4993,\n",
    "    3.21: 0.4993,\n",
    "    3.22: 0.4994,\n",
    "    3.23: 0.4994,\n",
    "    3.24: 0.4994,\n",
    "    3.25: 0.4994,\n",
    "    3.26: 0.4994,\n",
    "    3.27: 0.4994,\n",
    "    3.28: 0.4995,\n",
    "    3.29: 0.4995,\n",
    "    3.3: 0.4995,\n",
    "    3.31: 0.4995,\n",
    "    3.32: 0.4995,\n",
    "    3.33: 0.4996,\n",
    "    3.34: 0.4996,\n",
    "    3.35: 0.4996,\n",
    "    3.36: 0.4996,\n",
    "    3.37: 0.4996,\n",
    "    3.38: 0.4996,\n",
    "    3.39: 0.4997,\n",
    "    3.4: 0.4997,\n",
    "    3.41: 0.4997,\n",
    "    3.42: 0.4997,\n",
    "    3.43: 0.4997,\n",
    "    3.44: 0.4997,\n",
    "    3.45: 0.4997,\n",
    "    3.46: 0.4997,\n",
    "    3.47: 0.4997,\n",
    "    3.48: 0.4997,\n",
    "    3.49: 0.4998,\n",
    "    3.5: 0.4998,\n",
    "    3.51: 0.4998,\n",
    "    3.52: 0.4998,\n",
    "    3.53: 0.4998,\n",
    "    3.54: 0.4998,\n",
    "    3.55: 0.4998,\n",
    "    3.56: 0.4998,\n",
    "    3.57: 0.4998,\n",
    "    3.58: 0.4998,\n",
    "    3.59: 0.4998,\n",
    "    3.6: 0.4998,\n",
    "    3.61: 0.4998,\n",
    "    3.62: 0.4999,\n",
    "    3.63: 0.4999,\n",
    "    3.64: 0.4999,\n",
    "    3.65: 0.4999,\n",
    "    3.66: 0.4999,\n",
    "    3.67: 0.4999,\n",
    "    3.68: 0.4999,\n",
    "    3.69: 0.4999,\n",
    "    3.7: 0.4999,\n",
    "    3.71: 0.4999,\n",
    "    3.72: 0.4999,\n",
    "    3.73: 0.4999,\n",
    "    3.74: 0.4999,\n",
    "    3.75: 0.4999,\n",
    "    3.76: 0.4999,\n",
    "    3.77: 0.4999,\n",
    "    3.78: 0.4999,\n",
    "    3.79: 0.4999,\n",
    "    3.8: 0.4999,\n",
    "    3.81: 0.4999,\n",
    "    3.82: 0.4999,\n",
    "    3.83: 0.4999,\n",
    "    3.84: 0.4999,\n",
    "    3.85: 0.4999,\n",
    "    3.86: 0.4999,\n",
    "    3.87: 0.4999,\n",
    "    3.88: 0.4999,\n",
    "    3.89: 0.4999,\n",
    "    3.9: 0.5000,\n",
    "}"
   ]
  },
  {
   "cell_type": "code",
   "execution_count": 353,
   "id": "82d35bfe-88ed-421e-90c4-360fa8da4d67",
   "metadata": {
    "tags": []
   },
   "outputs": [],
   "source": [
    "L_kr_table = {1:{0.99:0.0002, 0.975: 0.001, 0.95: 0.004, 0.9: 0.02, 0.1: 2.71, 0.05: 3.84, 0.025: 5.02, 0.01: 6.63}, \n",
    "              2:{0.99:0.0201, 0.975: 0.051, 0.95: 0.103, 0.9: 0.21, 0.1: 4.61, 0.05: 5.99, 0.025: 7.38, 0.01: 9.21}, \n",
    "              3:{0.99:0.115, 0.975: 0.216, 0.95: 0.352, 0.9: 0.58, 0.1: 6.25, 0.05: 7.81, 0.025: 9.35, 0.01: 11.34}, \n",
    "              4: {0.99:0.297, 0.975: 0.484, 0.95: 0.711, 0.9: 1.06, 0.1: 7.78, 0.05: 9.49, 0.025: 11.14, 0.01: 13.28}, \n",
    "              5: {0.99:0.554, 0.975: 0.831, 0.95: 1.15, 0.9: 1.61, 0.1: 9.24, 0.05: 11.07, 0.025: 12.83, 0.01: 15.09}, \n",
    "              6: {0.99:0.872, 0.975: 1.24, 0.95: 1.64, 0.9: 2.2, 0.1: 10.64, 0.05: 12.59, 0.025: 14.45, 0.01: 16.81}, \n",
    "              7:{0.99:1.24, 0.975: 1.69, 0.95: 2.17, 0.9: 2.83, 0.1: 12.02, 0.05: 14.07, 0.025: 16.01, 0.01: 18.48},\n",
    "              8:{0.99:1.65, 0.975: 2.18, 0.95: 2.73, 0.9: 3.4, 0.1: 13.36, 0.05: 15.51, 0.025: 17.53, 0.01: 20.09},\n",
    "              9:{0.99:2.09, 0.975: 2.7, 0.95: 3.33, 0.9: 4.17, 0.1: 14.68, 0.05: 16.92, 0.025: 19.02, 0.01: 21.67},\n",
    "              10:{0.99:2.56, 0.975: 3.25, 0.95: 3.94, 0.9: 4.87, 0.1: 15.99, 0.05: 18.31, 0.025: 20.48, 0.01: 23.21}\n",
    "             }"
   ]
  },
  {
   "cell_type": "code",
   "execution_count": 354,
   "id": "2f949a4d-7844-40c6-a76c-29f053f4440c",
   "metadata": {},
   "outputs": [],
   "source": [
    "# Task 1\n",
    "with open('data1.txt') as f:\n",
    "            data = f.readlines()\n",
    "            counts1 = [int(x) for x in data[1].strip().split(',')]\n",
    "            intervals1 = [(int(x.split('-')[0]), int(x.split('-')[1])) for x in data[0].strip().split(',')]"
   ]
  },
  {
   "cell_type": "code",
   "execution_count": 355,
   "id": "676bd6e5-23d3-474b-9b39-85c14bb46a93",
   "metadata": {
    "tags": []
   },
   "outputs": [
    {
     "data": {
      "text/html": [
       "<div>\n",
       "<style scoped>\n",
       "    .dataframe tbody tr th:only-of-type {\n",
       "        vertical-align: middle;\n",
       "    }\n",
       "\n",
       "    .dataframe tbody tr th {\n",
       "        vertical-align: top;\n",
       "    }\n",
       "\n",
       "    .dataframe thead th {\n",
       "        text-align: right;\n",
       "    }\n",
       "</style>\n",
       "<table border=\"1\" class=\"dataframe\">\n",
       "  <thead>\n",
       "    <tr style=\"text-align: right;\">\n",
       "      <th></th>\n",
       "      <th>0</th>\n",
       "      <th>1</th>\n",
       "      <th>2</th>\n",
       "      <th>3</th>\n",
       "      <th>4</th>\n",
       "      <th>5</th>\n",
       "      <th>6</th>\n",
       "      <th>7</th>\n",
       "      <th>8</th>\n",
       "      <th>9</th>\n",
       "    </tr>\n",
       "  </thead>\n",
       "  <tbody>\n",
       "    <tr>\n",
       "      <th>X</th>\n",
       "      <td>(28, 30)</td>\n",
       "      <td>(30, 32)</td>\n",
       "      <td>(32, 34)</td>\n",
       "      <td>(34, 36)</td>\n",
       "      <td>(36, 38)</td>\n",
       "      <td>(38, 40)</td>\n",
       "      <td>(40, 42)</td>\n",
       "      <td>(42, 44)</td>\n",
       "      <td>(44, 46)</td>\n",
       "      <td>(46, 48)</td>\n",
       "    </tr>\n",
       "    <tr>\n",
       "      <th>ni</th>\n",
       "      <td>1</td>\n",
       "      <td>2</td>\n",
       "      <td>8</td>\n",
       "      <td>51</td>\n",
       "      <td>94</td>\n",
       "      <td>85</td>\n",
       "      <td>42</td>\n",
       "      <td>15</td>\n",
       "      <td>3</td>\n",
       "      <td>1</td>\n",
       "    </tr>\n",
       "  </tbody>\n",
       "</table>\n",
       "</div>"
      ],
      "text/plain": [
       "           0         1         2         3         4         5         6  \\\n",
       "X   (28, 30)  (30, 32)  (32, 34)  (34, 36)  (36, 38)  (38, 40)  (40, 42)   \n",
       "ni         1         2         8        51        94        85        42   \n",
       "\n",
       "           7         8         9  \n",
       "X   (42, 44)  (44, 46)  (46, 48)  \n",
       "ni        15         3         1  "
      ]
     },
     "execution_count": 355,
     "metadata": {},
     "output_type": "execute_result"
    }
   ],
   "source": [
    "data_dict = {\"X\": intervals1, \"ni\": counts1}\n",
    "\n",
    "df = pd.DataFrame(data_dict)\n",
    "\n",
    "df.transpose()"
   ]
  },
  {
   "cell_type": "code",
   "execution_count": 356,
   "id": "7a98d169-e042-4ee0-a78c-48778e8486cb",
   "metadata": {
    "tags": []
   },
   "outputs": [
    {
     "data": {
      "text/html": [
       "<div>\n",
       "<style scoped>\n",
       "    .dataframe tbody tr th:only-of-type {\n",
       "        vertical-align: middle;\n",
       "    }\n",
       "\n",
       "    .dataframe tbody tr th {\n",
       "        vertical-align: top;\n",
       "    }\n",
       "\n",
       "    .dataframe thead th {\n",
       "        text-align: right;\n",
       "    }\n",
       "</style>\n",
       "<table border=\"1\" class=\"dataframe\">\n",
       "  <thead>\n",
       "    <tr style=\"text-align: right;\">\n",
       "      <th></th>\n",
       "      <th>0</th>\n",
       "      <th>1</th>\n",
       "      <th>2</th>\n",
       "      <th>3</th>\n",
       "      <th>4</th>\n",
       "      <th>5</th>\n",
       "      <th>6</th>\n",
       "      <th>7</th>\n",
       "      <th>8</th>\n",
       "      <th>9</th>\n",
       "    </tr>\n",
       "  </thead>\n",
       "  <tbody>\n",
       "    <tr>\n",
       "      <th>X</th>\n",
       "      <td>(28, 30)</td>\n",
       "      <td>(30, 32)</td>\n",
       "      <td>(32, 34)</td>\n",
       "      <td>(34, 36)</td>\n",
       "      <td>(36, 38)</td>\n",
       "      <td>(38, 40)</td>\n",
       "      <td>(40, 42)</td>\n",
       "      <td>(42, 44)</td>\n",
       "      <td>(44, 46)</td>\n",
       "      <td>(46, 48)</td>\n",
       "    </tr>\n",
       "    <tr>\n",
       "      <th>ni</th>\n",
       "      <td>1</td>\n",
       "      <td>2</td>\n",
       "      <td>8</td>\n",
       "      <td>51</td>\n",
       "      <td>94</td>\n",
       "      <td>85</td>\n",
       "      <td>42</td>\n",
       "      <td>15</td>\n",
       "      <td>3</td>\n",
       "      <td>1</td>\n",
       "    </tr>\n",
       "    <tr>\n",
       "      <th>zi</th>\n",
       "      <td>29.0</td>\n",
       "      <td>31.0</td>\n",
       "      <td>33.0</td>\n",
       "      <td>35.0</td>\n",
       "      <td>37.0</td>\n",
       "      <td>39.0</td>\n",
       "      <td>41.0</td>\n",
       "      <td>43.0</td>\n",
       "      <td>45.0</td>\n",
       "      <td>47.0</td>\n",
       "    </tr>\n",
       "  </tbody>\n",
       "</table>\n",
       "</div>"
      ],
      "text/plain": [
       "           0         1         2         3         4         5         6  \\\n",
       "X   (28, 30)  (30, 32)  (32, 34)  (34, 36)  (36, 38)  (38, 40)  (40, 42)   \n",
       "ni         1         2         8        51        94        85        42   \n",
       "zi      29.0      31.0      33.0      35.0      37.0      39.0      41.0   \n",
       "\n",
       "           7         8         9  \n",
       "X   (42, 44)  (44, 46)  (46, 48)  \n",
       "ni        15         3         1  \n",
       "zi      43.0      45.0      47.0  "
      ]
     },
     "execution_count": 356,
     "metadata": {},
     "output_type": "execute_result"
    }
   ],
   "source": [
    "midpoints1 = []\n",
    "\n",
    "for interval in intervals1:\n",
    "    start, end = interval\n",
    "    midpoint = (start + end) / 2\n",
    "    midpoints1.append(midpoint)\n",
    "\n",
    "data_dict['zi'] = midpoints1\n",
    "df = pd.DataFrame(data_dict)\n",
    "df.transpose()"
   ]
  },
  {
   "cell_type": "code",
   "execution_count": 359,
   "id": "e58812f4-f0cd-4579-a5a6-0971b45f5f26",
   "metadata": {},
   "outputs": [
    {
     "data": {
      "image/png": "[encoded data removed]",
      "text/plain": [
       "<Figure size 640x480 with 1 Axes>"
      ]
     },
     "metadata": {},
     "output_type": "display_data"
    }
   ],
   "source": [
    "plt.bar([f\"{interval[0]}-{interval[1]}\" for interval in df['X']], df[\"ni\"])\n",
    "plt.xlabel('Intervals')\n",
    "plt.ylabel('Counts')\n",
    "plt.title('Діаграма частот')\n",
    "plt.show()"
   ]
  },
  {
   "cell_type": "code",
   "execution_count": 307,
   "id": "edfb3535-d2be-4a86-919d-fc6d7ff72ff8",
   "metadata": {
    "tags": []
   },
   "outputs": [
    {
     "data": {
      "text/html": [
       "<div>\n",
       "<style scoped>\n",
       "    .dataframe tbody tr th:only-of-type {\n",
       "        vertical-align: middle;\n",
       "    }\n",
       "\n",
       "    .dataframe tbody tr th {\n",
       "        vertical-align: top;\n",
       "    }\n",
       "\n",
       "    .dataframe thead th {\n",
       "        text-align: right;\n",
       "    }\n",
       "</style>\n",
       "<table border=\"1\" class=\"dataframe\">\n",
       "  <thead>\n",
       "    <tr style=\"text-align: right;\">\n",
       "      <th></th>\n",
       "      <th>X</th>\n",
       "      <th>ni</th>\n",
       "      <th>zi</th>\n",
       "    </tr>\n",
       "  </thead>\n",
       "  <tbody>\n",
       "    <tr>\n",
       "      <th>0</th>\n",
       "      <td>(28, 30)</td>\n",
       "      <td>1</td>\n",
       "      <td>29.0</td>\n",
       "    </tr>\n",
       "    <tr>\n",
       "      <th>1</th>\n",
       "      <td>(30, 32)</td>\n",
       "      <td>2</td>\n",
       "      <td>31.0</td>\n",
       "    </tr>\n",
       "    <tr>\n",
       "      <th>2</th>\n",
       "      <td>(32, 34)</td>\n",
       "      <td>8</td>\n",
       "      <td>33.0</td>\n",
       "    </tr>\n",
       "    <tr>\n",
       "      <th>3</th>\n",
       "      <td>(34, 36)</td>\n",
       "      <td>51</td>\n",
       "      <td>35.0</td>\n",
       "    </tr>\n",
       "    <tr>\n",
       "      <th>4</th>\n",
       "      <td>(36, 38)</td>\n",
       "      <td>94</td>\n",
       "      <td>37.0</td>\n",
       "    </tr>\n",
       "    <tr>\n",
       "      <th>5</th>\n",
       "      <td>(38, 40)</td>\n",
       "      <td>85</td>\n",
       "      <td>39.0</td>\n",
       "    </tr>\n",
       "    <tr>\n",
       "      <th>6</th>\n",
       "      <td>(40, 42)</td>\n",
       "      <td>42</td>\n",
       "      <td>41.0</td>\n",
       "    </tr>\n",
       "    <tr>\n",
       "      <th>7</th>\n",
       "      <td>(42, 44)</td>\n",
       "      <td>15</td>\n",
       "      <td>43.0</td>\n",
       "    </tr>\n",
       "    <tr>\n",
       "      <th>8</th>\n",
       "      <td>(44, 46)</td>\n",
       "      <td>3</td>\n",
       "      <td>45.0</td>\n",
       "    </tr>\n",
       "    <tr>\n",
       "      <th>9</th>\n",
       "      <td>(46, 48)</td>\n",
       "      <td>1</td>\n",
       "      <td>47.0</td>\n",
       "    </tr>\n",
       "  </tbody>\n",
       "</table>\n",
       "</div>"
      ],
      "text/plain": [
       "          X  ni    zi\n",
       "0  (28, 30)   1  29.0\n",
       "1  (30, 32)   2  31.0\n",
       "2  (32, 34)   8  33.0\n",
       "3  (34, 36)  51  35.0\n",
       "4  (36, 38)  94  37.0\n",
       "5  (38, 40)  85  39.0\n",
       "6  (40, 42)  42  41.0\n",
       "7  (42, 44)  15  43.0\n",
       "8  (44, 46)   3  45.0\n",
       "9  (46, 48)   1  47.0"
      ]
     },
     "execution_count": 307,
     "metadata": {},
     "output_type": "execute_result"
    }
   ],
   "source": [
    "df"
   ]
  },
  {
   "cell_type": "code",
   "execution_count": 308,
   "id": "1f28eafa-152d-4ede-8d34-9d3aaac224c4",
   "metadata": {
    "tags": []
   },
   "outputs": [],
   "source": [
    "\n",
    "def get_mid(midpoints,counts):\n",
    "    return sum(midpoints[i]*counts[i] for i in range(len(counts))) / sum(counts)"
   ]
  },
  {
   "cell_type": "code",
   "execution_count": 309,
   "id": "2af82f8a-b08f-41af-b59c-7865769c9acc",
   "metadata": {
    "tags": []
   },
   "outputs": [
    {
     "name": "stdout",
     "output_type": "stream",
     "text": [
      "[1, 2, 8, 51, 94, 85, 42, 15, 3, 1]\n",
      "[29.0, 31.0, 33.0, 35.0, 37.0, 39.0, 41.0, 43.0, 45.0, 47.0]\n"
     ]
    }
   ],
   "source": [
    "print(counts1)#11482\n",
    "print(midpoints1)"
   ]
  },
  {
   "cell_type": "code",
   "execution_count": 310,
   "id": "a02b2ed1-41fa-4c69-b599-fac2b860e96e",
   "metadata": {
    "tags": []
   },
   "outputs": [],
   "source": [
    "x = get_mid(midpoints1,counts1)"
   ]
  },
  {
   "cell_type": "code",
   "execution_count": 311,
   "id": "756cf11c-8725-4395-b2f2-754aa6ef822d",
   "metadata": {
    "tags": []
   },
   "outputs": [
    {
     "name": "stdout",
     "output_type": "stream",
     "text": [
      "38.019867549668874\n"
     ]
    }
   ],
   "source": [
    "print(x)"
   ]
  },
  {
   "cell_type": "code",
   "execution_count": 312,
   "id": "c759ead5-58a3-4279-b167-f28a89ca5950",
   "metadata": {
    "tags": []
   },
   "outputs": [],
   "source": [
    "def get_varianca(midpoints, counts):\n",
    "    return sum((midpoints[i]-x)**2*counts[i] for i in range(len(counts)))/sum(counts)"
   ]
  },
  {
   "cell_type": "code",
   "execution_count": 313,
   "id": "9eaa69ee-1912-4197-87a0-2a3505e876a5",
   "metadata": {
    "tags": []
   },
   "outputs": [
    {
     "name": "stdout",
     "output_type": "stream",
     "text": [
      "6.615499320205254\n"
     ]
    }
   ],
   "source": [
    "s2 = get_varianca(midpoints1, counts1)\n",
    "print(s2)"
   ]
  },
  {
   "cell_type": "code",
   "execution_count": 314,
   "id": "ab55712b-4ba4-4691-b231-febb519e6fa1",
   "metadata": {
    "tags": []
   },
   "outputs": [],
   "source": [
    "def get_standart(s2):\n",
    "    return s2**0.5\n"
   ]
  },
  {
   "cell_type": "code",
   "execution_count": 315,
   "id": "61b12de7-7260-43e5-8800-199a7e935b0e",
   "metadata": {
    "tags": []
   },
   "outputs": [
    {
     "name": "stdout",
     "output_type": "stream",
     "text": [
      "2.572061297909763\n"
     ]
    }
   ],
   "source": [
    "s = get_standart(s2)\n",
    "print(s)"
   ]
  },
  {
   "cell_type": "code",
   "execution_count": 316,
   "id": "6f2f6e60-1e22-4a6b-9e6a-edb34a5ddfc7",
   "metadata": {},
   "outputs": [],
   "source": [
    "p = []\n",
    "\n",
    "def get_p(intervals, avg, s):\n",
    "    suma = 0\n",
    "    for i in range(len(intervals)):\n",
    "        if i == 0:\n",
    "            lp = round((intervals[i][1] - avg) / s, 2)\n",
    "            if lp >= 0:\n",
    "                pi = Laplas_values[lp] + 0.5\n",
    "                \n",
    "            else:\n",
    "                pi = -Laplas_values[-lp] + 0.5\n",
    "            \n",
    "            \n",
    "        elif i == len(intervals) - 1:\n",
    "            pi = 1 - suma\n",
    "            \n",
    "        else:\n",
    "            lp1 = round((intervals[i][1] - avg) / s, 2)\n",
    "            lp2 = round((intervals[i][0] - avg) / s, 2)\n",
    "            \n",
    "            if lp1 > 0 and lp2 > 0:\n",
    "                pi = Laplas_values[lp1] - Laplas_values[lp2]\n",
    "                \n",
    "            elif lp1 < 0:\n",
    "                pi = -Laplas_values[-lp1] + Laplas_values[-lp2]\n",
    "           \n",
    "            else:\n",
    "                pi = Laplas_values[lp1] + Laplas_values[-lp2]\n",
    "            \n",
    "        pi = round(pi, 5)\n",
    "        suma += pi\n",
    "        p.append(pi)"
   ]
  },
  {
   "cell_type": "code",
   "execution_count": 317,
   "id": "2219552d-8fab-45aa-8b14-f25e2f4f5f34",
   "metadata": {
    "tags": []
   },
   "outputs": [],
   "source": [
    "get_p(intervals1, x, s)"
   ]
  },
  {
   "cell_type": "code",
   "execution_count": 318,
   "id": "000b10ed-268a-4553-b0b0-4a6a97f5ed78",
   "metadata": {
    "tags": []
   },
   "outputs": [
    {
     "name": "stdout",
     "output_type": "stream",
     "text": [
      "[0.0009, 0.0087, 0.0498, 0.1554, 0.2812, 0.2834, 0.16, 0.0507, 0.0089, 0.001]\n"
     ]
    }
   ],
   "source": [
    "print(p)"
   ]
  },
  {
   "cell_type": "code",
   "execution_count": null,
   "id": "5d85b57d-dd15-43cf-8421-1d3d47223edc",
   "metadata": {
    "tags": []
   },
   "outputs": [],
   "source": []
  },
  {
   "cell_type": "code",
   "execution_count": 319,
   "id": "3c9fe98b-2a99-42d2-a93c-29e923647c4f",
   "metadata": {
    "tags": []
   },
   "outputs": [],
   "source": [
    "def union(intervals, counts, pis):\n",
    "    combined_intervals = []\n",
    "    combined_counts = []\n",
    "    combined_pis = []\n",
    "\n",
    "    current_interval = intervals[0]\n",
    "    current_count = counts[0]\n",
    "    current_pi = pis[0]\n",
    "    \n",
    "    for interval, count, pi in zip(intervals[1:], counts[1:], pis[1:]):\n",
    "        \n",
    "        if current_count <= 5 or (current_pi * sum(counts)) <= 10:\n",
    "\n",
    "            current_interval = (current_interval[0], interval[1])\n",
    "\n",
    "            current_count += count\n",
    "            current_pi += pi\n",
    "            \n",
    "        else:\n",
    "\n",
    "            combined_intervals.append(current_interval)\n",
    "            combined_counts.append(current_count)\n",
    "            combined_pis.append(current_pi)\n",
    "\n",
    "            current_interval = interval\n",
    "            current_count = count\n",
    "            current_pi = pi\n",
    "\n",
    "    combined_intervals.append(current_interval)\n",
    "    combined_counts.append(current_count)\n",
    "    combined_pis.append(current_pi)\n",
    "    \n",
    "    \n",
    "    current_interval = combined_intervals[-1]\n",
    "    current_count = combined_counts[-1]\n",
    "    current_pi = combined_pis[-1]\n",
    "    for interval, count, pi in zip(reversed(combined_intervals[:-1]), reversed(combined_counts[:-1]), reversed(combined_pis[:-1])):\n",
    "        if current_count <= 5 or (current_pi * sum(combined_counts)) <= 10:\n",
    "\n",
    "            current_interval = (interval[0], current_interval[1])\n",
    "\n",
    "            current_count += count\n",
    "            current_pi += pi\n",
    "        else:\n",
    "            if current_interval not in combined_intervals:\n",
    "                index = combined_intervals.index(interval) + 1\n",
    "                combined_intervals[index]= current_interval\n",
    "                combined_counts[index] = current_count\n",
    "                combined_pis[index] = current_pi\n",
    "                \n",
    "                del combined_intervals[index+1]\n",
    "                del combined_counts[index+1]\n",
    "                del combined_pis[index+1]\n",
    "\n",
    "    return combined_intervals, combined_counts, combined_pis"
   ]
  },
  {
   "cell_type": "code",
   "execution_count": 320,
   "id": "d5a7a93a-80af-4520-b696-40dc0fde088f",
   "metadata": {
    "tags": []
   },
   "outputs": [],
   "source": [
    "intervals2, counts2, p2 = union(intervals1, counts1,p)"
   ]
  },
  {
   "cell_type": "code",
   "execution_count": 321,
   "id": "cb04ff21-3f44-4b77-876f-741510cc34c5",
   "metadata": {
    "tags": []
   },
   "outputs": [
    {
     "name": "stdout",
     "output_type": "stream",
     "text": [
      "[(28, 34), (34, 36), (36, 38), (38, 40), (40, 42), (42, 48)]\n",
      "[11, 51, 94, 85, 42, 19]\n",
      "[0.059399999999999994, 0.1554, 0.2812, 0.2834, 0.16, 0.0606]\n"
     ]
    }
   ],
   "source": [
    "print(intervals2)\n",
    "print(counts2)\n",
    "print(p2)"
   ]
  },
  {
   "cell_type": "code",
   "execution_count": 322,
   "id": "fd7734e3-a15d-4805-b37a-9e4036fa9e46",
   "metadata": {
    "tags": []
   },
   "outputs": [
    {
     "data": {
      "text/html": [
       "<div>\n",
       "<style scoped>\n",
       "    .dataframe tbody tr th:only-of-type {\n",
       "        vertical-align: middle;\n",
       "    }\n",
       "\n",
       "    .dataframe tbody tr th {\n",
       "        vertical-align: top;\n",
       "    }\n",
       "\n",
       "    .dataframe thead th {\n",
       "        text-align: right;\n",
       "    }\n",
       "</style>\n",
       "<table border=\"1\" class=\"dataframe\">\n",
       "  <thead>\n",
       "    <tr style=\"text-align: right;\">\n",
       "      <th></th>\n",
       "      <th>0</th>\n",
       "      <th>1</th>\n",
       "      <th>2</th>\n",
       "      <th>3</th>\n",
       "      <th>4</th>\n",
       "      <th>5</th>\n",
       "    </tr>\n",
       "  </thead>\n",
       "  <tbody>\n",
       "    <tr>\n",
       "      <th>X</th>\n",
       "      <td>(28, 34)</td>\n",
       "      <td>(34, 36)</td>\n",
       "      <td>(36, 38)</td>\n",
       "      <td>(38, 40)</td>\n",
       "      <td>(40, 42)</td>\n",
       "      <td>(42, 48)</td>\n",
       "    </tr>\n",
       "    <tr>\n",
       "      <th>ni</th>\n",
       "      <td>11</td>\n",
       "      <td>51</td>\n",
       "      <td>94</td>\n",
       "      <td>85</td>\n",
       "      <td>42</td>\n",
       "      <td>19</td>\n",
       "    </tr>\n",
       "    <tr>\n",
       "      <th>pi</th>\n",
       "      <td>0.0594</td>\n",
       "      <td>0.1554</td>\n",
       "      <td>0.2812</td>\n",
       "      <td>0.2834</td>\n",
       "      <td>0.16</td>\n",
       "      <td>0.0606</td>\n",
       "    </tr>\n",
       "  </tbody>\n",
       "</table>\n",
       "</div>"
      ],
      "text/plain": [
       "           0         1         2         3         4         5\n",
       "X   (28, 34)  (34, 36)  (36, 38)  (38, 40)  (40, 42)  (42, 48)\n",
       "ni        11        51        94        85        42        19\n",
       "pi    0.0594    0.1554    0.2812    0.2834      0.16    0.0606"
      ]
     },
     "execution_count": 322,
     "metadata": {},
     "output_type": "execute_result"
    }
   ],
   "source": [
    "data_dict2 = {\"X\": intervals2, \"ni\": counts2, \"pi\": p2}\n",
    "\n",
    "df2 = pd.DataFrame(data_dict2)\n",
    "\n",
    "df2.transpose()"
   ]
  },
  {
   "cell_type": "code",
   "execution_count": 333,
   "id": "44322319-0513-4677-9a05-8555cc12e0b5",
   "metadata": {
    "tags": []
   },
   "outputs": [],
   "source": [
    "def emp(counts, p):\n",
    "    suma = sum(counts)\n",
    "    return sum(((counts[i]-suma*p[i])**2)/(suma*p[i]) for i in range(len(counts)))"
   ]
  },
  {
   "cell_type": "code",
   "execution_count": 334,
   "id": "99e3c29f-5390-4193-9c6e-9ab4446a0b5a",
   "metadata": {
    "tags": []
   },
   "outputs": [],
   "source": [
    "em = emp(counts2, p2)"
   ]
  },
  {
   "cell_type": "code",
   "execution_count": 335,
   "id": "5881f247-e23c-4608-9d16-468f788900b3",
   "metadata": {
    "tags": []
   },
   "outputs": [
    {
     "name": "stdout",
     "output_type": "stream",
     "text": [
      "4.864440404562808\n"
     ]
    }
   ],
   "source": [
    "print(em)"
   ]
  },
  {
   "cell_type": "code",
   "execution_count": 360,
   "id": "294254d8-d5e5-43d4-9ce1-6d45213cff29",
   "metadata": {
    "tags": []
   },
   "outputs": [
    {
     "name": "stdout",
     "output_type": "stream",
     "text": [
      "3\n"
     ]
    }
   ],
   "source": [
    "df = len(intervals2) - 2 - 1\n",
    "alpha = 0.05\n",
    "print(df)"
   ]
  },
  {
   "cell_type": "code",
   "execution_count": 346,
   "id": "79f5e8b1-d970-4696-8c49-23322842a6fc",
   "metadata": {
    "tags": []
   },
   "outputs": [],
   "source": [
    "cr = L_kr_table[df][alpha]"
   ]
  },
  {
   "cell_type": "code",
   "execution_count": 347,
   "id": "06f7dddf-1232-409a-a208-acd73974face",
   "metadata": {
    "tags": []
   },
   "outputs": [
    {
     "name": "stdout",
     "output_type": "stream",
     "text": [
      "7.81\n"
     ]
    }
   ],
   "source": [
    "print(cr)"
   ]
  },
  {
   "cell_type": "code",
   "execution_count": 348,
   "id": "b8af1ec1-fb22-47c2-a095-cd5ed975a04b",
   "metadata": {
    "tags": []
   },
   "outputs": [],
   "source": [
    "def conclusion(emp,cr):\n",
    "    print(f'Емпіричне - {round(emp, 3)}, критичне - {cr}')\n",
    "    print(f'Емпіричне {round(emp, 3)} < критичного {cr}, тому H0 приймаємо' if emp < cr else f'Емпіричне {emp} > критичного {cr}, тому H0 не приймаємо')"
   ]
  },
  {
   "cell_type": "code",
   "execution_count": 349,
   "id": "7f56deb1-9178-4685-a073-3122624a65cd",
   "metadata": {
    "tags": []
   },
   "outputs": [
    {
     "name": "stdout",
     "output_type": "stream",
     "text": [
      "Емпіричне - 4.864, критичне - 7.81\n",
      "Емпіричне 4.864 < критичного 7.81, тому H0 приймаємо\n"
     ]
    }
   ],
   "source": [
    "conclusion(em,cr)"
   ]
  },
  {
   "cell_type": "code",
   "execution_count": null,
   "id": "64e87eaa-ea8d-4916-b5b0-253981892444",
   "metadata": {},
   "outputs": [],
   "source": []
  },
  {
   "cell_type": "code",
   "execution_count": null,
   "id": "b24dadbf-899d-4f78-9d51-886f1f9c1d74",
   "metadata": {},
   "outputs": [],
   "source": []
  }
 ],
 "metadata": {
  "kernelspec": {
   "display_name": "Python 3 (ipykernel)",
   "language": "python",
   "name": "python3"
  },
  "language_info": {
   "codemirror_mode": {
    "name": "ipython",
    "version": 3
   },
   "file_extension": ".py",
   "mimetype": "text/x-python",
   "name": "python",
   "nbconvert_exporter": "python",
   "pygments_lexer": "ipython3",
   "version": "3.11.5"
  }
 },
 "nbformat": 4,
 "nbformat_minor": 5
}
