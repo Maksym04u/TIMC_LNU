{
 "cells": [
  {
   "cell_type": "code",
   "execution_count": 4,
   "id": "640e4805-59ac-407d-a129-b4db372c2f1a",
   "metadata": {
    "tags": []
   },
   "outputs": [],
   "source": [
    "# Variant 14"
   ]
  },
  {
   "cell_type": "code",
   "execution_count": 92,
   "id": "24bba420-162f-4272-96c8-a28ab87b571b",
   "metadata": {
    "tags": []
   },
   "outputs": [],
   "source": [
    "import matplotlib.pyplot as plt\n",
    "import pandas as pd\n",
    "import math"
   ]
  },
  {
   "cell_type": "code",
   "execution_count": 93,
   "id": "201baf15-44d0-459a-bc1b-1d0479b16a88",
   "metadata": {
    "tags": []
   },
   "outputs": [],
   "source": [
    "Laplas_values = {\n",
    "    0.00: 0,\n",
    "    0.01: 0.004,\n",
    "    0.02: 0.008,\n",
    "    0.03: 0.012,\n",
    "    0.04: 0.016,\n",
    "    0.05: 0.0199,\n",
    "    0.06: 0.0239,\n",
    "    0.07: 0.0279,\n",
    "    0.08: 0.0319,\n",
    "    0.09: 0.0359,\n",
    "    0.10: 0.0398,\n",
    "    0.11: 0.0438,\n",
    "    0.12: 0.0478,\n",
    "    0.13: 0.0517,\n",
    "    0.14: 0.0557,\n",
    "    0.15: 0.0596,\n",
    "    0.16: 0.0636,\n",
    "    0.17: 0.0675,\n",
    "    0.18: 0.0714,\n",
    "    0.19: 0.0753,\n",
    "    0.20: 0.0793,\n",
    "    0.21: 0.0832,\n",
    "    0.22: 0.0871,\n",
    "    0.23: 0.091,\n",
    "    0.24: 0.0948,\n",
    "    0.25: 0.0987,\n",
    "    0.26: 0.1026,\n",
    "    0.27: 0.1064,\n",
    "    0.28: 0.1103,\n",
    "    0.29: 0.1141,\n",
    "    0.30: 0.1179,\n",
    "    0.31: 0.1217,\n",
    "    0.32: 0.1255,\n",
    "    0.33: 0.1293,\n",
    "    0.34: 0.1331,\n",
    "    0.35: 0.1368,\n",
    "    0.36: 0.1406,\n",
    "    0.37: 0.1443,\n",
    "    0.38: 0.148,\n",
    "    0.39: 0.1517,\n",
    "    0.40: 0.1554,\n",
    "    0.41: 0.1591,\n",
    "    0.42: 0.1628,\n",
    "    0.43: 0.1664,\n",
    "    0.44: 0.17,\n",
    "    0.45: 0.1736,\n",
    "    0.46: 0.1772,\n",
    "    0.47: 0.1808,\n",
    "    0.48: 0.1844,\n",
    "    0.49: 0.1879,\n",
    "    0.50: 0.1915,\n",
    "    0.51: 0.195,\n",
    "    0.52: 0.1985,\n",
    "    0.53: 0.2019,\n",
    "    0.54: 0.2054,\n",
    "    0.55: 0.2088,\n",
    "    0.56: 0.2123,\n",
    "    0.57: 0.2157,\n",
    "    0.58: 0.219,\n",
    "    0.59: 0.2224,\n",
    "    0.60: 0.2257,\n",
    "    0.61: 0.2291,\n",
    "    0.62: 0.2324,\n",
    "    0.63: 0.2357,\n",
    "    0.64: 0.2389,\n",
    "    0.65: 0.2422,\n",
    "    0.66: 0.2454,\n",
    "    0.67: 0.2486,\n",
    "    0.68: 0.2517,\n",
    "    0.69: 0.2549,\n",
    "    0.70: 0.258,\n",
    "    0.71: 0.2611,\n",
    "    0.72: 0.2642,\n",
    "    0.73: 0.2673,\n",
    "    0.74: 0.2703,\n",
    "    0.75: 0.2734,\n",
    "    0.76: 0.2764,\n",
    "    0.77: 0.2794,\n",
    "    0.78: 0.2823,\n",
    "    0.79: 0.2852,\n",
    "    0.80: 0.2881,\n",
    "    0.81: 0.291,\n",
    "    0.82: 0.2939,\n",
    "    0.83: 0.2967,\n",
    "    0.84: 0.2995,\n",
    "    0.85: 0.3023,\n",
    "    0.86: 0.3051,\n",
    "    0.87: 0.3078,\n",
    "    0.88: 0.3106,\n",
    "    0.89: 0.3133,\n",
    "    0.90: 0.3159,\n",
    "    0.91: 0.3186,\n",
    "    0.92: 0.3212,\n",
    "    0.93: 0.3238,\n",
    "    0.94: 0.3264,\n",
    "    0.95: 0.3289,\n",
    "    0.96: 0.3315,\n",
    "    0.97: 0.334,\n",
    "    0.98: 0.3365,\n",
    "    0.99: 0.3389,\n",
    "    1.00: 0.3413,\n",
    "    1.01: 0.3438,\n",
    "    1.02: 0.3461,\n",
    "    1.03: 0.3485,\n",
    "    1.04: 0.3508,\n",
    "    1.05: 0.3531,\n",
    "    1.06: 0.3554,\n",
    "    1.07: 0.3577,\n",
    "    1.08: 0.3599,\n",
    "    1.09: 0.3621,\n",
    "    1.10: 0.3643,\n",
    "    1.11: 0.3665,\n",
    "    1.12: 0.3686,\n",
    "    1.13: 0.3708,\n",
    "    1.14: 0.3729,\n",
    "    1.15: 0.3749,\n",
    "    1.16: 0.377,\n",
    "    1.17: 0.379,\n",
    "    1.18: 0.381,\n",
    "    1.19: 0.383,\n",
    "    1.20: 0.3849,\n",
    "    1.21: 0.3869,\n",
    "    1.22: 0.3883,\n",
    "    1.23: 0.3907,\n",
    "    1.24: 0.3925,\n",
    "    1.25: 0.3944,\n",
    "    1.26: 0.3962,\n",
    "    1.27: 0.398,\n",
    "    1.28: 0.3997,\n",
    "    1.29: 0.4015,\n",
    "    1.30: 0.4032,\n",
    "    1.31: 0.4049,\n",
    "    1.32: 0.4066,\n",
    "    1.33: 0.4082,\n",
    "    1.34: 0.4099,\n",
    "    1.35: 0.4115,\n",
    "    1.36: 0.4131,\n",
    "    1.37: 0.4147,\n",
    "    1.38: 0.4162,\n",
    "    1.39: 0.4177,\n",
    "    1.40: 0.4192,\n",
    "    1.41: 0.4207,\n",
    "    1.42: 0.4222,\n",
    "    1.43: 0.4236,\n",
    "    1.44: 0.4251,\n",
    "    1.45: 0.4265,\n",
    "    1.46: 0.4279,\n",
    "    1.47: 0.4292,\n",
    "    1.48: 0.4306,\n",
    "    1.49: 0.4319,\n",
    "    1.50: 0.4332,\n",
    "    1.51: 0.4345,\n",
    "    1.52: 0.4357,\n",
    "    1.53: 0.437,\n",
    "    1.54: 0.4382,\n",
    "    1.55: 0.4394,\n",
    "    1.56: 0.4406,\n",
    "    1.57: 0.4418,\n",
    "    1.58: 0.4429,\n",
    "    1.59: 0.4441,\n",
    "    1.6: 0.4452,\n",
    "    1.61: 0.4463,\n",
    "    1.62: 0.4474,\n",
    "    1.63: 0.4484,\n",
    "    1.64: 0.4495,\n",
    "    1.65: 0.4505,\n",
    "    1.66: 0.4515,\n",
    "    1.67: 0.4525,\n",
    "    1.68: 0.4535,\n",
    "    1.69: 0.4545,\n",
    "    1.7: 0.4554,\n",
    "    1.71: 0.4564,\n",
    "    1.72: 0.4573,\n",
    "    1.73: 0.4582,\n",
    "    1.74: 0.4591,\n",
    "    1.75: 0.4599,\n",
    "    1.76: 0.4608,\n",
    "    1.77: 0.4616,\n",
    "    1.78: 0.4625,\n",
    "    1.79: 0.4633,\n",
    "    1.80: 0.4641,\n",
    "    1.81: 0.4649,\n",
    "    1.82: 0.4656,\n",
    "    1.83: 0.4664,\n",
    "    1.84: 0.4671,\n",
    "    1.85: 0.4678,\n",
    "    1.86: 0.468,\n",
    "    1.87: 0.4693,\n",
    "    1.88: 0.4699,\n",
    "    1.89: 0.4706,\n",
    "    1.90: 0.4713,\n",
    "    1.91: 0.4719,\n",
    "    1.92: 0.4726,\n",
    "    1.93: 0.4732,\n",
    "    1.94: 0.4738,\n",
    "    1.95: 0.4744,\n",
    "    1.96: 0.475,\n",
    "    1.97: 0.4756,\n",
    "    1.98: 0.4761,\n",
    "    1.99: 0.4767,\n",
    "    2.00: 0.4772,\n",
    "    2.01: 0.4778,\n",
    "    2.02: 0.4783,\n",
    "    2.03: 0.4788,\n",
    "    2.04: 0.4793,\n",
    "    2.05: 0.4798,\n",
    "    2.06: 0.4803,\n",
    "    2.07: 0.4808,\n",
    "    2.08: 0.4812,\n",
    "    2.09: 0.4817,\n",
    "    2.10: 0.4821,\n",
    "    2.11: 0.4826,\n",
    "    2.12: 0.483,\n",
    "    2.13: 0.4834,\n",
    "    2.14: 0.4838,\n",
    "    2.15: 0.4842,\n",
    "    2.16: 0.4846,\n",
    "    2.17: 0.4849,\n",
    "    2.18: 0.4854,\n",
    "    2.19: 0.4857,\n",
    "    2.20: 0.4861,\n",
    "    2.21: 0.4864,\n",
    "    2.22: 0.4868,\n",
    "    2.23: 0.4872,\n",
    "    2.24: 0.4875,\n",
    "    2.25: 0.4878,\n",
    "    2.26: 0.4881,\n",
    "    2.27: 0.4884,\n",
    "    2.28: 0.4887,\n",
    "    2.29: 0.4891,\n",
    "    2.30: 0.4893,\n",
    "    2.31: 0.4896,\n",
    "    2.32: 0.4898,\n",
    "    2.33: 0.4901,\n",
    "    2.34: 0.4904,\n",
    "    2.35: 0.4906,\n",
    "    2.36: 0.4909,\n",
    "    2.37: 0.4911,\n",
    "    2.38: 0.4913,\n",
    "    2.39: 0.4916,\n",
    "    2.40: 0.4918,\n",
    "    2.41: 0.492,\n",
    "    2.42: 0.4922,\n",
    "    2.43: 0.4925,\n",
    "    2.44: 0.4927,\n",
    "    2.45: 0.4929,\n",
    "    2.46: 0.4931,\n",
    "    2.47: 0.4933,\n",
    "    2.48: 0.4934,\n",
    "    2.49: 0.4936,\n",
    "    2.50: 0.4938,\n",
    "    2.51: 0.494,\n",
    "    2.52: 0.4941,\n",
    "    2.53: 0.4943,\n",
    "    2.54: 0.4945,\n",
    "    2.55: 0.4946,\n",
    "    2.56: 0.4948,\n",
    "    2.57: 0.4949,\n",
    "    2.58: 0.4951,\n",
    "    2.59: 0.4952,\n",
    "    2.60: 0.4953,\n",
    "    2.61: 0.4955,\n",
    "    2.62: 0.4956,\n",
    "    2.63: 0.4957,\n",
    "    2.64: 0.4959,\n",
    "    2.65: 0.4960,\n",
    "    2.66: 0.4961,\n",
    "    2.67: 0.4962,\n",
    "    2.68: 0.4963,\n",
    "    2.69: 0.4964,\n",
    "    2.70: 0.4965,\n",
    "    2.71: 0.4966,\n",
    "    2.72: 0.4967,\n",
    "    2.73: 0.4968,\n",
    "    2.74: 0.4969,\n",
    "    2.75: 0.497,\n",
    "    2.76: 0.4971,\n",
    "    2.77: 0.4972,\n",
    "    2.78: 0.4973,\n",
    "    2.79: 0.4974,\n",
    "    2.80: 0.4974,\n",
    "    2.81: 0.4975,\n",
    "    2.82: 0.4976,\n",
    "    2.83: 0.4977,\n",
    "    2.84: 0.4977,\n",
    "    2.85: 0.4978,\n",
    "    2.86: 0.4979,\n",
    "    2.87: 0.4980,\n",
    "    2.88: 0.4980,\n",
    "    2.89: 0.4981,\n",
    "    2.90: 0.4981,\n",
    "    2.91: 0.4982,\n",
    "    2.92: 0.4983,\n",
    "    2.93: 0.4983,\n",
    "    2.94: 0.4984,\n",
    "    2.95: 0.4984,\n",
    "    2.96: 0.4985,\n",
    "    2.97: 0.4985,\n",
    "    2.98: 0.4986,\n",
    "    2.99: 0.4986,\n",
    "    3.00: 0.4986,\n",
    "    3.01: 0.4987,\n",
    "    3.02: 0.4987,\n",
    "    3.03: 0.4988,\n",
    "    3.04: 0.4988,\n",
    "    3.05: 0.4989,\n",
    "    3.06: 0.4989,\n",
    "    3.07: 0.4989,\n",
    "    3.08: 0.4990,\n",
    "    3.09: 0.4990,\n",
    "    3.10: 0.4990,\n",
    "    3.11: 0.4991,\n",
    "    3.12: 0.4991,\n",
    "    3.13: 0.4991,\n",
    "    3.14: 0.4992,\n",
    "    3.15: 0.4992,\n",
    "    3.16: 0.4992,\n",
    "    3.17: 0.4992,\n",
    "    3.18: 0.4993,\n",
    "    3.19: 0.4993,\n",
    "    3.2: 0.4993,\n",
    "    3.21: 0.4993,\n",
    "    3.22: 0.4994,\n",
    "    3.23: 0.4994,\n",
    "    3.24: 0.4994,\n",
    "    3.25: 0.4994,\n",
    "    3.26: 0.4994,\n",
    "    3.27: 0.4994,\n",
    "    3.28: 0.4995,\n",
    "    3.29: 0.4995,\n",
    "    3.3: 0.4995,\n",
    "    3.31: 0.4995,\n",
    "    3.32: 0.4995,\n",
    "    3.33: 0.4996,\n",
    "    3.34: 0.4996,\n",
    "    3.35: 0.4996,\n",
    "    3.36: 0.4996,\n",
    "    3.37: 0.4996,\n",
    "    3.38: 0.4996,\n",
    "    3.39: 0.4997,\n",
    "    3.4: 0.4997,\n",
    "    3.41: 0.4997,\n",
    "    3.42: 0.4997,\n",
    "    3.43: 0.4997,\n",
    "    3.44: 0.4997,\n",
    "    3.45: 0.4997,\n",
    "    3.46: 0.4997,\n",
    "    3.47: 0.4997,\n",
    "    3.48: 0.4997,\n",
    "    3.49: 0.4998,\n",
    "    3.5: 0.4998,\n",
    "    3.51: 0.4998,\n",
    "    3.52: 0.4998,\n",
    "    3.53: 0.4998,\n",
    "    3.54: 0.4998,\n",
    "    3.55: 0.4998,\n",
    "    3.56: 0.4998,\n",
    "    3.57: 0.4998,\n",
    "    3.58: 0.4998,\n",
    "    3.59: 0.4998,\n",
    "    3.6: 0.4998,\n",
    "    3.61: 0.4998,\n",
    "    3.62: 0.4999,\n",
    "    3.63: 0.4999,\n",
    "    3.64: 0.4999,\n",
    "    3.65: 0.4999,\n",
    "    3.66: 0.4999,\n",
    "    3.67: 0.4999,\n",
    "    3.68: 0.4999,\n",
    "    3.69: 0.4999,\n",
    "    3.7: 0.4999,\n",
    "    3.71: 0.4999,\n",
    "    3.72: 0.4999,\n",
    "    3.73: 0.4999,\n",
    "    3.74: 0.4999,\n",
    "    3.75: 0.4999,\n",
    "    3.76: 0.4999,\n",
    "    3.77: 0.4999,\n",
    "    3.78: 0.4999,\n",
    "    3.79: 0.4999,\n",
    "    3.8: 0.4999,\n",
    "    3.81: 0.4999,\n",
    "    3.82: 0.4999,\n",
    "    3.83: 0.4999,\n",
    "    3.84: 0.4999,\n",
    "    3.85: 0.4999,\n",
    "    3.86: 0.4999,\n",
    "    3.87: 0.4999,\n",
    "    3.88: 0.4999,\n",
    "    3.89: 0.4999,\n",
    "    3.9: 0.5000\n",
    "}"
   ]
  },
  {
   "cell_type": "code",
   "execution_count": 94,
   "id": "5b59e492-2838-4558-a8fc-87be300124d2",
   "metadata": {
    "tags": []
   },
   "outputs": [],
   "source": [
    "L_kr_table = {1:{0.99:0.0002, 0.975: 0.001, 0.95: 0.004, 0.9: 0.02, 0.1: 2.71, 0.05: 3.84, 0.025: 5.02, 0.01: 6.63}, \n",
    "              2:{0.99:0.0201, 0.975: 0.051, 0.95: 0.103, 0.9: 0.21, 0.1: 4.61, 0.05: 5.99, 0.025: 7.38, 0.01: 9.21}, \n",
    "              3:{0.99:0.115, 0.975: 0.216, 0.95: 0.352, 0.9: 0.58, 0.1: 6.25, 0.05: 7.81, 0.025: 9.35, 0.01: 11.34}, \n",
    "              4: {0.99:0.297, 0.975: 0.484, 0.95: 0.711, 0.9: 1.06, 0.1: 7.78, 0.05: 9.49, 0.025: 11.14, 0.01: 13.28}, \n",
    "              5: {0.99:0.554, 0.975: 0.831, 0.95: 1.15, 0.9: 1.61, 0.1: 9.24, 0.05: 11.07, 0.025: 12.83, 0.01: 15.09}, \n",
    "              6: {0.99:0.872, 0.975: 1.24, 0.95: 1.64, 0.9: 2.2, 0.1: 10.64, 0.05: 12.59, 0.025: 14.45, 0.01: 16.81}, \n",
    "              7:{0.99:1.24, 0.975: 1.69, 0.95: 2.17, 0.9: 2.83, 0.1: 12.02, 0.05: 14.07, 0.025: 16.01, 0.01: 18.48},\n",
    "              8:{0.99:1.65, 0.975: 2.18, 0.95: 2.73, 0.9: 3.4, 0.1: 13.36, 0.05: 15.51, 0.025: 17.53, 0.01: 20.09},\n",
    "              9:{0.99:2.09, 0.975: 2.7, 0.95: 3.33, 0.9: 4.17, 0.1: 14.68, 0.05: 16.92, 0.025: 19.02, 0.01: 21.67},\n",
    "              10:{0.99:2.56, 0.975: 3.25, 0.95: 3.94, 0.9: 4.87, 0.1: 15.99, 0.05: 18.31, 0.025: 20.48, 0.01: 23.21}\n",
    "             }"
   ]
  },
  {
   "cell_type": "code",
   "execution_count": 95,
   "id": "bd4e2983-936a-4070-8a22-0d62482e6fca",
   "metadata": {
    "tags": []
   },
   "outputs": [],
   "source": [
    "# Task 2\n",
    "with open('data2.txt') as f:\n",
    "            data = f.readlines()\n",
    "            counts1 = [int(x) for x in data[1].strip().split(',')]\n",
    "            intervals1 = [int(x) for x in data[0].strip().split(',')]"
   ]
  },
  {
   "cell_type": "code",
   "execution_count": 96,
   "id": "19f407e0-e3cd-444c-b48c-76768d8018e8",
   "metadata": {
    "tags": []
   },
   "outputs": [
    {
     "data": {
      "text/html": [
       "<div>\n",
       "<style scoped>\n",
       "    .dataframe tbody tr th:only-of-type {\n",
       "        vertical-align: middle;\n",
       "    }\n",
       "\n",
       "    .dataframe tbody tr th {\n",
       "        vertical-align: top;\n",
       "    }\n",
       "\n",
       "    .dataframe thead th {\n",
       "        text-align: right;\n",
       "    }\n",
       "</style>\n",
       "<table border=\"1\" class=\"dataframe\">\n",
       "  <thead>\n",
       "    <tr style=\"text-align: right;\">\n",
       "      <th></th>\n",
       "      <th>0</th>\n",
       "      <th>1</th>\n",
       "      <th>2</th>\n",
       "      <th>3</th>\n",
       "      <th>4</th>\n",
       "      <th>5</th>\n",
       "      <th>6</th>\n",
       "      <th>7</th>\n",
       "      <th>8</th>\n",
       "    </tr>\n",
       "  </thead>\n",
       "  <tbody>\n",
       "    <tr>\n",
       "      <th>X</th>\n",
       "      <td>0</td>\n",
       "      <td>1</td>\n",
       "      <td>2</td>\n",
       "      <td>3</td>\n",
       "      <td>4</td>\n",
       "      <td>5</td>\n",
       "      <td>6</td>\n",
       "      <td>7</td>\n",
       "      <td>8</td>\n",
       "    </tr>\n",
       "    <tr>\n",
       "      <th>ni</th>\n",
       "      <td>0</td>\n",
       "      <td>3</td>\n",
       "      <td>11</td>\n",
       "      <td>47</td>\n",
       "      <td>132</td>\n",
       "      <td>263</td>\n",
       "      <td>301</td>\n",
       "      <td>198</td>\n",
       "      <td>50</td>\n",
       "    </tr>\n",
       "  </tbody>\n",
       "</table>\n",
       "</div>"
      ],
      "text/plain": [
       "    0  1   2   3    4    5    6    7   8\n",
       "X   0  1   2   3    4    5    6    7   8\n",
       "ni  0  3  11  47  132  263  301  198  50"
      ]
     },
     "execution_count": 96,
     "metadata": {},
     "output_type": "execute_result"
    }
   ],
   "source": [
    "data_dict = {\"X\": intervals1, \"ni\": counts1}\n",
    "\n",
    "df = pd.DataFrame(data_dict)\n",
    "\n",
    "df.transpose()"
   ]
  },
  {
   "cell_type": "code",
   "execution_count": 97,
   "id": "7b236b3d-d05d-4fd8-8b13-b9210c38ca9e",
   "metadata": {
    "tags": []
   },
   "outputs": [
    {
     "data": {
      "image/png": "[encoded data removed]",
      "text/plain": [
       "<Figure size 640x480 with 1 Axes>"
      ]
     },
     "metadata": {},
     "output_type": "display_data"
    }
   ],
   "source": [
    "plt.bar(df['X'], df[\"ni\"])\n",
    "plt.xlabel('Intervals')\n",
    "plt.ylabel('Counts')\n",
    "plt.title('Діаграма частот')\n",
    "plt.show()"
   ]
  },
  {
   "cell_type": "code",
   "execution_count": 99,
   "id": "872f802a-5768-415c-a332-e8f686d5a596",
   "metadata": {
    "tags": []
   },
   "outputs": [
    {
     "data": {
      "image/png": "[encoded data removed]",
      "text/plain": [
       "<Figure size 640x480 with 1 Axes>"
      ]
     },
     "metadata": {},
     "output_type": "display_data"
    }
   ],
   "source": [
    "plt.plot(df['X'], df[\"ni\"])\n",
    "plt.xlabel('Intervals')\n",
    "plt.ylabel('Counts')\n",
    "plt.title('Полігон частот')\n",
    "plt.show()"
   ]
  },
  {
   "cell_type": "code",
   "execution_count": 100,
   "id": "80b8c0c4-d454-43bb-b995-482aca8f1d13",
   "metadata": {
    "tags": []
   },
   "outputs": [],
   "source": [
    "def get_avg(intervals, counts):\n",
    "    return sum(intervals[i]*counts[i] for i in range(len(intervals))) / sum(counts)"
   ]
  },
  {
   "cell_type": "code",
   "execution_count": 101,
   "id": "964635ec-81a9-4d09-8bf1-c918aa6095d9",
   "metadata": {
    "tags": []
   },
   "outputs": [
    {
     "name": "stdout",
     "output_type": "stream",
     "text": [
      "5.57313\n"
     ]
    }
   ],
   "source": [
    "x = get_avg(intervals1, counts1)\n",
    "print(round(x, 5))"
   ]
  },
  {
   "cell_type": "code",
   "execution_count": 102,
   "id": "595facc3-3a95-414e-9e52-d547f3094673",
   "metadata": {
    "tags": []
   },
   "outputs": [
    {
     "name": "stdout",
     "output_type": "stream",
     "text": [
      "0.69664\n"
     ]
    }
   ],
   "source": [
    "p = x/(len(intervals1)-1)\n",
    "print(round(p, 5))"
   ]
  },
  {
   "cell_type": "code",
   "execution_count": 118,
   "id": "03df40f5-cc17-45ed-a634-ffd59f4dd281",
   "metadata": {
    "tags": []
   },
   "outputs": [],
   "source": [
    "p_lst = []\n",
    "\n",
    "q = 1 - p\n",
    "\n",
    "def get_p():\n",
    "    num = intervals1[-1]\n",
    "    for i in range(len(intervals1)):\n",
    "        pi = math.factorial(num)/(math.factorial(num-i)*math.factorial(i)) * p**(i) * q**(num-i)\n",
    "        pi = round(pi,5)\n",
    "        p_lst.append(pi)"
   ]
  },
  {
   "cell_type": "code",
   "execution_count": 104,
   "id": "a52fc80a-151f-4790-ada3-7b003051dc20",
   "metadata": {
    "tags": []
   },
   "outputs": [],
   "source": [
    "get_p()"
   ]
  },
  {
   "cell_type": "code",
   "execution_count": 105,
   "id": "e83cbf43-85e8-4587-a0a3-f3df5570a011",
   "metadata": {
    "tags": []
   },
   "outputs": [
    {
     "data": {
      "text/html": [
       "<div>\n",
       "<style scoped>\n",
       "    .dataframe tbody tr th:only-of-type {\n",
       "        vertical-align: middle;\n",
       "    }\n",
       "\n",
       "    .dataframe tbody tr th {\n",
       "        vertical-align: top;\n",
       "    }\n",
       "\n",
       "    .dataframe thead th {\n",
       "        text-align: right;\n",
       "    }\n",
       "</style>\n",
       "<table border=\"1\" class=\"dataframe\">\n",
       "  <thead>\n",
       "    <tr style=\"text-align: right;\">\n",
       "      <th></th>\n",
       "      <th>0</th>\n",
       "      <th>1</th>\n",
       "      <th>2</th>\n",
       "      <th>3</th>\n",
       "      <th>4</th>\n",
       "      <th>5</th>\n",
       "      <th>6</th>\n",
       "      <th>7</th>\n",
       "      <th>8</th>\n",
       "    </tr>\n",
       "  </thead>\n",
       "  <tbody>\n",
       "    <tr>\n",
       "      <th>X</th>\n",
       "      <td>0.00000</td>\n",
       "      <td>1.00000</td>\n",
       "      <td>2.00000</td>\n",
       "      <td>3.00000</td>\n",
       "      <td>4.00000</td>\n",
       "      <td>5.00000</td>\n",
       "      <td>6.00000</td>\n",
       "      <td>7.00000</td>\n",
       "      <td>8.00000</td>\n",
       "    </tr>\n",
       "    <tr>\n",
       "      <th>ni</th>\n",
       "      <td>0.00000</td>\n",
       "      <td>3.00000</td>\n",
       "      <td>11.00000</td>\n",
       "      <td>47.00000</td>\n",
       "      <td>132.00000</td>\n",
       "      <td>263.00000</td>\n",
       "      <td>301.00000</td>\n",
       "      <td>198.00000</td>\n",
       "      <td>50.00000</td>\n",
       "    </tr>\n",
       "    <tr>\n",
       "      <th>pi</th>\n",
       "      <td>0.00007</td>\n",
       "      <td>0.00132</td>\n",
       "      <td>0.01059</td>\n",
       "      <td>0.04864</td>\n",
       "      <td>0.13962</td>\n",
       "      <td>0.25651</td>\n",
       "      <td>0.29453</td>\n",
       "      <td>0.19325</td>\n",
       "      <td>0.05547</td>\n",
       "    </tr>\n",
       "  </tbody>\n",
       "</table>\n",
       "</div>"
      ],
      "text/plain": [
       "          0        1         2         3          4          5          6  \\\n",
       "X   0.00000  1.00000   2.00000   3.00000    4.00000    5.00000    6.00000   \n",
       "ni  0.00000  3.00000  11.00000  47.00000  132.00000  263.00000  301.00000   \n",
       "pi  0.00007  0.00132   0.01059   0.04864    0.13962    0.25651    0.29453   \n",
       "\n",
       "            7         8  \n",
       "X     7.00000   8.00000  \n",
       "ni  198.00000  50.00000  \n",
       "pi    0.19325   0.05547  "
      ]
     },
     "execution_count": 105,
     "metadata": {},
     "output_type": "execute_result"
    }
   ],
   "source": [
    "data_dict['pi'] = p_lst\n",
    "\n",
    "df2 = pd.DataFrame(data_dict)\n",
    "\n",
    "df2.transpose()"
   ]
  },
  {
   "cell_type": "code",
   "execution_count": 106,
   "id": "7a192591-7490-4b84-a8bd-dc2ee2a875c4",
   "metadata": {
    "tags": []
   },
   "outputs": [],
   "source": [
    "def union(counts, pis):\n",
    "    \n",
    "    combined_counts = []\n",
    "    combined_pis = []\n",
    "\n",
    "   \n",
    "    current_count = counts[0]\n",
    "    current_pi = pis[0]\n",
    "    \n",
    "    for count, pi in zip(counts[1:], pis[1:]):\n",
    "        \n",
    "        if current_count <= 5 or (current_pi * sum(counts)) <= 10:\n",
    "\n",
    "            current_count += count\n",
    "            current_pi += pi\n",
    "            \n",
    "        else:\n",
    "            \n",
    "            combined_counts.append(current_count)\n",
    "            combined_pis.append(current_pi)\n",
    "            \n",
    "            current_count = count\n",
    "            current_pi = pi\n",
    "\n",
    "    combined_counts.append(current_count)\n",
    "    combined_pis.append(current_pi)\n",
    "    \n",
    "    print(combined_counts)\n",
    "    print(combined_pis)\n",
    "    \n",
    "    current_count = combined_counts[-1]\n",
    "    current_pi = combined_pis[-1]\n",
    "    \n",
    "    for count, pi in zip(reversed(combined_counts[:-1]), reversed(combined_pis[:-1])):\n",
    "        if current_count <= 5 or (current_pi * sum(combined_counts)) <= 10:\n",
    "\n",
    "            current_count += count\n",
    "            current_pi += pi\n",
    "            \n",
    "        else:\n",
    "            \n",
    "            if current_count not in combined_counts:\n",
    "                index = combined_counts.index(current_count) + 1\n",
    "                combined_counts[index] = current_count\n",
    "                combined_pis[index] = current_pi\n",
    "                \n",
    "                del combined_counts[index+1]\n",
    "                del combined_pis[index+1]\n",
    "\n",
    "    return combined_counts, combined_pis"
   ]
  },
  {
   "cell_type": "code",
   "execution_count": 107,
   "id": "d3aed751-fc3b-41ee-820e-bfaa83c9d6ad",
   "metadata": {
    "tags": []
   },
   "outputs": [
    {
     "name": "stdout",
     "output_type": "stream",
     "text": [
      "[14, 47, 132, 263, 301, 198, 50]\n",
      "[0.011980000000000001, 0.04864, 0.13962, 0.25651, 0.29453, 0.19325, 0.05547]\n"
     ]
    }
   ],
   "source": [
    "counts2, p2 = union(counts1,p_lst)"
   ]
  },
  {
   "cell_type": "code",
   "execution_count": 108,
   "id": "06068489-ab76-4e46-9e36-827dae286d67",
   "metadata": {
    "tags": []
   },
   "outputs": [
    {
     "name": "stdout",
     "output_type": "stream",
     "text": [
      "[14, 47, 132, 263, 301, 198, 50]\n",
      "[0.011980000000000001, 0.04864, 0.13962, 0.25651, 0.29453, 0.19325, 0.05547]\n"
     ]
    }
   ],
   "source": [
    "print(counts2)\n",
    "print(p2)"
   ]
  },
  {
   "cell_type": "code",
   "execution_count": 109,
   "id": "83f534d5-f59c-4150-b918-e577b1a0ef50",
   "metadata": {
    "tags": []
   },
   "outputs": [
    {
     "data": {
      "text/html": [
       "<div>\n",
       "<style scoped>\n",
       "    .dataframe tbody tr th:only-of-type {\n",
       "        vertical-align: middle;\n",
       "    }\n",
       "\n",
       "    .dataframe tbody tr th {\n",
       "        vertical-align: top;\n",
       "    }\n",
       "\n",
       "    .dataframe thead th {\n",
       "        text-align: right;\n",
       "    }\n",
       "</style>\n",
       "<table border=\"1\" class=\"dataframe\">\n",
       "  <thead>\n",
       "    <tr style=\"text-align: right;\">\n",
       "      <th></th>\n",
       "      <th>0</th>\n",
       "      <th>1</th>\n",
       "      <th>2</th>\n",
       "      <th>3</th>\n",
       "      <th>4</th>\n",
       "      <th>5</th>\n",
       "      <th>6</th>\n",
       "    </tr>\n",
       "  </thead>\n",
       "  <tbody>\n",
       "    <tr>\n",
       "      <th>ni</th>\n",
       "      <td>14.00000</td>\n",
       "      <td>47.00000</td>\n",
       "      <td>132.00000</td>\n",
       "      <td>263.00000</td>\n",
       "      <td>301.00000</td>\n",
       "      <td>198.00000</td>\n",
       "      <td>50.00000</td>\n",
       "    </tr>\n",
       "    <tr>\n",
       "      <th>pi</th>\n",
       "      <td>0.01198</td>\n",
       "      <td>0.04864</td>\n",
       "      <td>0.13962</td>\n",
       "      <td>0.25651</td>\n",
       "      <td>0.29453</td>\n",
       "      <td>0.19325</td>\n",
       "      <td>0.05547</td>\n",
       "    </tr>\n",
       "  </tbody>\n",
       "</table>\n",
       "</div>"
      ],
      "text/plain": [
       "           0         1          2          3          4          5         6\n",
       "ni  14.00000  47.00000  132.00000  263.00000  301.00000  198.00000  50.00000\n",
       "pi   0.01198   0.04864    0.13962    0.25651    0.29453    0.19325   0.05547"
      ]
     },
     "execution_count": 109,
     "metadata": {},
     "output_type": "execute_result"
    }
   ],
   "source": [
    "data = {\"ni\": counts2, \"pi\": p2}\n",
    "\n",
    "df3 = pd.DataFrame(data)\n",
    "\n",
    "df3.transpose()"
   ]
  },
  {
   "cell_type": "code",
   "execution_count": 110,
   "id": "42bcc46d-3380-4862-adbe-e920421a04e4",
   "metadata": {
    "tags": []
   },
   "outputs": [],
   "source": [
    "def emp(counts, pis):\n",
    "    suma = sum(counts)\n",
    "    return sum(((counts[i]-suma*pis[i])**2)/(suma*pis[i]) for i in range(len(counts)))"
   ]
  },
  {
   "cell_type": "code",
   "execution_count": 111,
   "id": "3b7e180f-4be5-4d5b-8706-6268f06cb49c",
   "metadata": {
    "tags": []
   },
   "outputs": [
    {
     "name": "stdout",
     "output_type": "stream",
     "text": [
      "1.740560875085989\n"
     ]
    }
   ],
   "source": [
    "em = emp(counts2,p2)\n",
    "print(em)"
   ]
  },
  {
   "cell_type": "code",
   "execution_count": 112,
   "id": "d711bc8f-041e-4667-a636-3e185290b8b7",
   "metadata": {
    "tags": []
   },
   "outputs": [
    {
     "name": "stdout",
     "output_type": "stream",
     "text": [
      "5\n"
     ]
    }
   ],
   "source": [
    "df = len(counts2)-2\n",
    "print(df)"
   ]
  },
  {
   "cell_type": "code",
   "execution_count": 113,
   "id": "7440bb96-d114-4b57-a309-cb0893ee830e",
   "metadata": {
    "tags": []
   },
   "outputs": [],
   "source": [
    "alpha = 0.05"
   ]
  },
  {
   "cell_type": "code",
   "execution_count": 114,
   "id": "05bb0fab-3c4e-4dab-9907-5f8d01f6fa6c",
   "metadata": {
    "tags": []
   },
   "outputs": [
    {
     "name": "stdout",
     "output_type": "stream",
     "text": [
      "11.07\n"
     ]
    }
   ],
   "source": [
    "cr = L_kr_table[df][alpha]\n",
    "print(cr)"
   ]
  },
  {
   "cell_type": "code",
   "execution_count": 115,
   "id": "bfcbd38d-aa3d-40e8-865e-c45aaa9d1992",
   "metadata": {
    "tags": []
   },
   "outputs": [],
   "source": [
    "def conclusion(emp,cr):\n",
    "    print(f'Емпіричне - {round(emp, 3)}, критичне - {cr}')\n",
    "    print(f'Емпіричне {round(emp, 3)} < критичного {cr}, тому H0 приймаємо' if emp < cr else f'Емпіричне {emp} > критичного {cr}, тому H0 не приймаємо')"
   ]
  },
  {
   "cell_type": "code",
   "execution_count": 116,
   "id": "c63df12c-0af8-41be-a3a7-f6f41c20a2fe",
   "metadata": {
    "tags": []
   },
   "outputs": [
    {
     "name": "stdout",
     "output_type": "stream",
     "text": [
      "Емпіричне - 1.741, критичне - 11.07\n",
      "Емпіричне 1.741 < критичного 11.07, тому H0 приймаємо\n"
     ]
    }
   ],
   "source": [
    "conclusion(em,cr)"
   ]
  },
  {
   "cell_type": "code",
   "execution_count": null,
   "id": "70353a91-d857-4838-91c7-065a92a30cb9",
   "metadata": {},
   "outputs": [],
   "source": []
  }
 ],
 "metadata": {
  "kernelspec": {
   "display_name": "Python 3 (ipykernel)",
   "language": "python",
   "name": "python3"
  },
  "language_info": {
   "codemirror_mode": {
    "name": "ipython",
    "version": 3
   },
   "file_extension": ".py",
   "mimetype": "text/x-python",
   "name": "python",
   "nbconvert_exporter": "python",
   "pygments_lexer": "ipython3",
   "version": "3.11.5"
  }
 },
 "nbformat": 4,
 "nbformat_minor": 5
}
